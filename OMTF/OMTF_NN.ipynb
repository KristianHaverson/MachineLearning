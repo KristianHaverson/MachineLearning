{
 "cells": [
  {
   "cell_type": "code",
   "execution_count": null,
   "metadata": {},
   "outputs": [],
   "source": [
    "from tensorflow.python.client import device_lib\n",
    "print(device_lib.list_local_devices())"
   ]
  },
  {
   "cell_type": "markdown",
   "metadata": {},
   "source": [
    "## OMTF definitions and imports"
   ]
  },
  {
   "cell_type": "code",
   "execution_count": 1,
   "metadata": {},
   "outputs": [],
   "source": [
    "import glob\n",
    "\n",
    "import tensorflow as tf\n",
    "import tensorflow_addons as tfa\n",
    "\n",
    "import os\n",
    "import time\n",
    "from datetime import datetime\n",
    "import numpy as np\n",
    "import matplotlib.pyplot as plt\n",
    "import scipy\n",
    "\n",
    "inputDataPrefix = \"\"\n",
    "\n",
    "SLURM_CLUSTER_NAME=str(os.getenv(\"SLURM_CLUSTER_NAME\"))\n",
    "runOnCluster = False\n",
    "if SLURM_CLUSTER_NAME == \"prometheus\":\n",
    "    inputDataPrefix = \"/net/people/plgakalinow/plggcmsml/\"\n",
    "    runOnCluster = True\n",
    "elif SLURM_CLUSTER_NAME == \"rysy\":   \n",
    "    inputDataPrefix = \"/home/akalinow/\"\n",
    "    runOnCluster = True\n",
    "else: \n",
    "    inputDataPrefix =  \"/home/user1/scratch_ssd/akalinow/\"\n",
    "    runOnCluster = False\n",
    "    \n",
    "trainDataDir = inputDataPrefix+\"/ProgrammingProjects/MachineLearning/OMTF/data/18_12_2020/\"   \n",
    "testDataDir = inputDataPrefix+\"/ProgrammingProjects/MachineLearning/OMTF/data/18_12_2020/\" \n",
    "\n",
    "nRefLayers = 8\n",
    "nLayers = 18\n",
    "nPDFBins = 2**7\n",
    "minProbability = 0.001\n",
    "minPlog = np.log(minProbability)\n",
    "nPdfValBits = 6\n",
    "refLayers = [0, 7, 2, 6, 16, 4, 10, 11]\n",
    "ptBins = tf.concat([tf.range(0.0, 5, 0.5), tf.range(5, 30, 1.0), tf.range(30, 40, 5.0), tf.range(40, 60, 10.0), tf.range(60, 100, 20.0), tf.range(100, 201, 50.0), [99999.0]], axis=0)"
   ]
  },
  {
   "cell_type": "code",
   "execution_count": null,
   "metadata": {},
   "outputs": [],
   "source": [
    "tensor = tf.searchsorted(ptBins, [200.0], side='left')\n",
    "print(tensor)\n",
    "pt = tf.where(ptBins.numpy()[tensor]<9999, ptBins.numpy()[tensor], [200])\n",
    "print(pt)"
   ]
  },
  {
   "cell_type": "markdown",
   "metadata": {},
   "source": [
    "## Use mixed precision policy: 32 bits for data, 16 bits for weights"
   ]
  },
  {
   "cell_type": "code",
   "execution_count": null,
   "metadata": {},
   "outputs": [],
   "source": [
    "from tensorflow.keras.mixed_precision import experimental as mixed_precision\n",
    "policy = mixed_precision.Policy('mixed_float16')\n",
    "mixed_precision.set_policy(policy)"
   ]
  },
  {
   "cell_type": "markdown",
   "metadata": {},
   "source": [
    "## Start Tensorboard server"
   ]
  },
  {
   "cell_type": "code",
   "execution_count": null,
   "metadata": {},
   "outputs": [],
   "source": [
    "if not runOnCluster:\n",
    "    %load_ext tensorboard\n",
    "    %tensorboard --logdir logs/fit --port=8008 --bind_all"
   ]
  },
  {
   "cell_type": "markdown",
   "metadata": {},
   "source": [
    "## Data manipulation functions"
   ]
  },
  {
   "cell_type": "code",
   "execution_count": 24,
   "metadata": {},
   "outputs": [],
   "source": [
    "columns = np.array(['muonPt', 'muonEta', 'muonPhi', 'muonCharge', 'omtfPt', 'omtfEta',\n",
    "       'omtfPhi', 'omtfCharge', 'omtfScore', 'omtfQuality', 'omtfRefLayer',\n",
    "       'omtfProcessor', 'omtfFiredLayers', 'phiDist_0', 'phiDist_1',\n",
    "       'phiDist_2', 'phiDist_3', 'phiDist_4', 'phiDist_5', 'phiDist_6',\n",
    "       'phiDist_7', 'phiDist_8', 'phiDist_9', 'phiDist_10', 'phiDist_11',\n",
    "       'phiDist_12', 'phiDist_13', 'phiDist_14', 'phiDist_15', 'phiDist_16',\n",
    "       'phiDist_17'])\n",
    "\n",
    "def getFeaturesMask():\n",
    "    featuresMask = np.full_like(columns, False, dtype=np.bool)\n",
    "    for iLayer in range(0, 18):\n",
    "        featureLabel = \"phiDist_{}\".format(iLayer)\n",
    "        featuresMask += (columns==featureLabel)\n",
    "    #featuresMask += columns==\"omtfFiredLayers\"\n",
    "    #featuresMask += columns==\"omtfRefLayer\"\n",
    "    #featuresMask += columns==\"omtfPt\"\n",
    "    #featuresMask = columns==\"omtfQuality\"\n",
    "    return featuresMask\n",
    "\n",
    "def getFeature(name, dataRow):\n",
    "    columnIndex = np.where(columns == name)[0][0]  \n",
    "    return dataRow[:,columnIndex]\n",
    "\n",
    "def parse_tensor(tensor):\n",
    "    return tf.io.parse_tensor(tensor, out_type=tf.float32)\n",
    "\n",
    "def pT2Label(tensor):\n",
    "    tensor = tf.searchsorted(ptBins, tensor, side='left')\n",
    "    return tensor\n",
    "    \n",
    "def label2Pt(tensor):  \n",
    "    return tf.where(ptBins.numpy()[tensor]<9999, ptBins.numpy()[tensor], [200])\n",
    "\n",
    "def modifyFeatures(dataRow, batchSize, isTrain=False):\n",
    "    columnsMask = getFeaturesMask()\n",
    "    features = tf.boolean_mask(dataRow, columnsMask, axis=1)\n",
    "    dummyValue = 128 \n",
    "    features = tf.where(features<9999, features, dummyValue) \n",
    "    features.set_shape([batchSize,np.count_nonzero(columnsMask)])\n",
    "    features = tf.one_hot(tf.cast(features+64, dtype=tf.int32), depth=128)#TEST\n",
    "    \n",
    "    columnIndex = np.where(columns == \"muonCharge\")[0][0]  \n",
    "    chargeLabels = (dataRow[:,columnIndex]+1)/2 \n",
    "    chargeLabels.set_shape([batchSize,])\n",
    "    \n",
    "    columnIndex = np.where(columns == \"muonPt\")[0][0]\n",
    "    ptLabels = dataRow[:,columnIndex]\n",
    "    ptLabels.set_shape([batchSize,])\n",
    "    trainWeight = 1.0 \n",
    "    \n",
    "    if isTrain:\n",
    "        ptLabels = pT2Label(ptLabels)\n",
    "        return (features, (ptLabels, chargeLabels), trainWeight)\n",
    "    else:\n",
    "        columnIndex = np.where(columns == \"omtfPt\")[0][0]  \n",
    "        omtfPt = dataRow[:,columnIndex]\n",
    "        columnIndex = np.where(columns == \"omtfQuality\")[0][0]  \n",
    "        omtfQuality = dataRow[:,columnIndex]\n",
    "        omtfPt = tf.where(omtfQuality>=12, omtfPt, 0) \n",
    "        omtfPt.set_shape([batchSize,])\n",
    "        \n",
    "        columnIndex = np.where(columns == \"omtfCharge\")[0][0]  \n",
    "        omtfCharge = dataRow[:,columnIndex]\n",
    "        omtfCharge = (omtfCharge+1)/2 \n",
    "        omtfCharge.set_shape([batchSize,])\n",
    "        return (features, (ptLabels, chargeLabels), omtfPt, omtfCharge)\n",
    "    return dataRow\n",
    "    \n",
    "def loadDataset(fileNames, isTrain, nEpochs=1, batchSize=1):   \n",
    "    raw_dataset = tf.data.TFRecordDataset(fileNames, compression_type=\"GZIP\")\n",
    "    dataset = raw_dataset.map(parse_tensor,num_parallel_calls=tf.data.experimental.AUTOTUNE)\n",
    "    dataset = dataset.batch(batchSize, drop_remainder=True)\n",
    "    #Split data into [features, labels] and modify features\n",
    "    dataset = dataset.map(lambda x: modifyFeatures(x, batchSize, isTrain),num_parallel_calls=tf.data.experimental.AUTOTUNE)\n",
    "    #dataset = dataset.cache('/scratch/akalinow/data_cache/')\n",
    "    return dataset\n",
    "\n",
    "def benchmark(dataset, num_epochs=2):\n",
    "    start_time = time.perf_counter()\n",
    "    for epoch_num in range(num_epochs):\n",
    "        for sample in dataset:\n",
    "            # Performing a training step\n",
    "            time.sleep(1E-10)\n",
    "    tf.print(\"Execution time:\", time.perf_counter() - start_time)"
   ]
  },
  {
   "cell_type": "markdown",
   "metadata": {},
   "source": [
    "## Utility functions"
   ]
  },
  {
   "cell_type": "code",
   "execution_count": 25,
   "metadata": {},
   "outputs": [],
   "source": [
    "def finalModelAnswer(predictions, cumulativePosteriorCut):\n",
    "    pt = tf.cumsum(predictions[0], axis=1)>cumulativePosteriorCut\n",
    "    pt = tf.argmax(pt, axis=1)\n",
    "    probability = np.amax(predictions[0], axis=1)\n",
    "    charge = tf.cast(predictions[1]>0.5, dtype=tf.float32)\n",
    "    charge =  tf.reshape(charge, (-1))\n",
    "    return label2Pt(pt), charge, probability\n",
    "\n",
    "def fillPandasDataset(aBatch, df, cumulativePosteriorCut):    \n",
    "    features = aBatch[0]\n",
    "    labels = aBatch[1]\n",
    "    omtfPredictions = aBatch[2:4]\n",
    "    probability = model.predict(features, use_multiprocessing=True)\n",
    "    value = finalModelAnswer(probability, cumulativePosteriorCut)\n",
    "    batch_df = pd.DataFrame(data={\"genPt\":labels[0], \"genCharge\":labels[1], \n",
    "                                    \"OMTF_pt\":omtfPredictions[0], \n",
    "                                    \"OMTF_charge\":omtfPredictions[1], \n",
    "                                    \"NN_pt\": value[0]*(omtfPredictions[0]>0),\n",
    "                                    \"NN_charge\":value[1],\n",
    "                                    \"NN_prob\":value[2],\n",
    "                                    })\n",
    "    return df.append(batch_df, ignore_index=True)"
   ]
  },
  {
   "cell_type": "markdown",
   "metadata": {},
   "source": [
    "## Data reading test"
   ]
  },
  {
   "cell_type": "code",
   "execution_count": 4,
   "metadata": {},
   "outputs": [
    {
     "name": "stdout",
     "output_type": "stream",
     "text": [
      "tf.Tensor(\n",
      "[0. 0. 0. 0. 0. 0. 0. 0. 0. 0. 0. 0. 0. 0. 0. 0. 0. 0. 0. 0. 0. 0. 0. 0.\n",
      " 0. 0. 0. 0. 0. 0. 0. 0. 0. 0. 0. 0. 0. 0. 0. 0. 0. 0. 0. 0. 0. 0. 0. 0.\n",
      " 0. 0. 0. 0. 0. 0. 0. 0. 0. 0. 0. 0. 0. 0. 0. 0. 0. 0. 0. 0. 0. 0. 0. 0.\n",
      " 0. 0. 0. 0. 0. 0. 0. 0. 0. 0. 0. 0. 0. 0. 0. 0. 0. 0. 0. 0. 0. 0. 0. 0.\n",
      " 0. 0. 0. 0. 0. 0. 0. 0. 0. 0. 0. 0. 0. 0. 0. 0. 0. 0. 0. 0. 0. 0. 0. 0.\n",
      " 0. 0. 0. 0. 0. 0. 0. 0.], shape=(128,), dtype=float32)\n"
     ]
    }
   ],
   "source": [
    "trainFileNames = glob.glob(trainDataDir+'OMTFHits_pats0x0003_newerSample_files_1_100_chunk_0.tfrecord.gzip')\n",
    "trainFileNames = glob.glob(trainDataDir+'OMTFHits_pats0x0003_oldSample_files_*_chunk_0.tfrecord.gzip')\n",
    "train_dataset = loadDataset(trainFileNames, isTrain=True, nEpochs=1, batchSize=1)\n",
    "#benchmark(train_dataset)\n",
    "\n",
    "#dataset = dataset.map(lambda x,y,z: tf.stack([x,y[1],y[1], z], axis=0))\n",
    "#print(dataset)\n",
    "\n",
    "\n",
    "#dataset = dataset.map(tf.io.serialize_tensor)\n",
    "\n",
    "#mask = tf.constant([0,1,2,3,10,11,12,13], dtype=tf.int32)\n",
    "#print(mask)\n",
    "\n",
    "for element in train_dataset.take(10): \n",
    "  print(element[0][0][1])\n",
    "  #x = tf.one_hot(tf.cast(element[0], dtype=tf.int32), depth=128)\n",
    "  #print(x.shape)  \n",
    "  #y = tf.gather(params=element[0], indices=mask, axis=1)\n",
    "  #print(y)  \n",
    "  break"
   ]
  },
  {
   "cell_type": "markdown",
   "metadata": {},
   "source": [
    "## Define models"
   ]
  },
  {
   "cell_type": "code",
   "execution_count": 44,
   "metadata": {},
   "outputs": [
    {
     "data": {
      "text/plain": [
       "<tensorflow.python.keras.engine.functional.Functional at 0x7f2b4f8eb828>"
      ]
     },
     "execution_count": 44,
     "metadata": {},
     "output_type": "execute_result"
    }
   ],
   "source": [
    "def pull_mean_metric(y_true, y_pred):    \n",
    "    predictions = tf.math.cumsum(y_pred, axis=1)>cumulativePosteriorCut\n",
    "    predictions = tf.math.argmax(predictions, axis=1)   \n",
    "    predictions = label2Pt(predictions)\n",
    "    predictions = tf.reshape(predictions, (-1,1))\n",
    "    labels = label2Pt(tf.cast(y_true, tf.int32))\n",
    "    pull = (labels - predictions)/labels   \n",
    "    mean = tf.math.reduce_mean(pull, axis=0)\n",
    "    return mean \n",
    "    \n",
    "def pull_variance_metric(y_true, y_pred):\n",
    "    predictions = tf.math.cumsum(y_pred, axis=1)>cumulativePosteriorCut\n",
    "    predictions = tf.math.argmax(predictions, axis=1)   \n",
    "    predictions = label2Pt(predictions)\n",
    "    predictions = tf.reshape(predictions, (-1,1))\n",
    "    labels = label2Pt(tf.cast(y_true, tf.int32))\n",
    "    pull = (labels - predictions)/labels  \n",
    "    variance = tf.math.reduce_variance(pull, axis=0) \n",
    "    return tf.sqrt(variance) \n",
    "\n",
    "def my_loss_fn(y_true, y_pred):\n",
    "    \n",
    "    predictions = tf.math.cumsum(y_pred, axis=1)>cumulativePosteriorCut\n",
    "    predictions = tf.math.argmax(predictions, axis=1)\n",
    "    predictions = tf.reshape(predictions, (-1,1))\n",
    "    labels = y_true\n",
    "\n",
    "    lowPtLoss = tf.math.logical_and(tf.math.less(labels, 10), tf.math.greater(predictions, 10))\n",
    "    lowPtLoss = (predictions-labels)*lowPtLoss\n",
    "    lowPtLoss = tf.cast(lowPtLoss, float32)\n",
    "    \n",
    "    return tf.keras.losses.SparseCategoricalCrossentropy(from_logits=False)(y_true, y_pred) + lowPtLoss\n",
    "\n",
    "\n",
    "custom_objects={'pull_mean_metric': pull_mean_metric,\n",
    "                'pull_variance_metric':pull_variance_metric,\n",
    "                'my_loss_fn':my_loss_fn\n",
    "               }\n",
    "\n",
    "def getModel():\n",
    "    \n",
    "  nPtBins =  ptBins.shape[0]\n",
    "  nInputs = np.sum(getFeaturesMask())\n",
    "        \n",
    "  inputs = tf.keras.Input(shape=(nInputs,128), name=\"deltaPhi\")\n",
    "  #activation = tf.keras.activations.swish \n",
    "  activation = tf.keras.activations.relu \n",
    "  \n",
    "  ptLayer = tf.keras.layers.Flatten(input_shape=(nInputs, 128), name=\"Flatten_input_pt\")(inputs) \n",
    "  #ptLayer = inputs\n",
    "  for iLayer in range(0,10):\n",
    "            ptLayer = tf.keras.layers.Dense(512, activation=activation, name=\"Pt_layer_{}\".format(iLayer))(ptLayer)\n",
    "    \n",
    "  chargeLayer = tf.keras.layers.Flatten(input_shape=(nInputs, 128), name=\"Flatten_input_charge\")(inputs) \n",
    "  #chargeLayer= inputs\n",
    "  for iLayer in range(0,1): \n",
    "       chargeLayer = tf.keras.layers.Dense(32, activation=activation, name=\"Charge_layer_{}\".format(iLayer))(chargeLayer)\n",
    "    \n",
    "  ptOutput = tf.keras.layers.Dense(nPtBins, activation=tf.nn.softmax,bias_initializer='zeros',name = \"pt\")(ptLayer) \n",
    "  chargeOutput = tf.keras.layers.Dense(1, activation=tf.keras.activations.sigmoid,name = \"charge\")(chargeLayer)\n",
    "        \n",
    "  model = tf.keras.Model(inputs=inputs, outputs=[ptOutput, chargeOutput], name=\"NN\")\n",
    "\n",
    "  initial_learning_rate = 0.01\n",
    "  lr_schedule = tf.keras.optimizers.schedules.ExponentialDecay(\n",
    "    initial_learning_rate,\n",
    "    decay_steps=5000,\n",
    "    decay_rate=0.95,\n",
    "    staircase=True)\n",
    "  \n",
    "  model.compile(optimizer=tf.keras.optimizers.Adam(learning_rate=lr_schedule),\n",
    "                loss={\"pt\":tf.keras.losses.SparseCategoricalCrossentropy(from_logits=False),\n",
    "                     \"charge\":tf.keras.losses.BinaryCrossentropy(from_logits=False)\n",
    "                     },                    \n",
    "                metrics=['accuracy'])\n",
    "  tf.keras.utils.plot_model(model, 'fig_png/ML_model.png', show_shapes=True)\n",
    "  return model\n",
    "\n",
    "\n",
    "def loadModel(checkpoint_path):\n",
    "    return tf.keras.models.load_model(checkpoint_path.format(epoch=nEpochsSaved), custom_objects=custom_objects)\n",
    "\n",
    "getModel()"
   ]
  },
  {
   "cell_type": "code",
   "execution_count": null,
   "metadata": {},
   "outputs": [],
   "source": [
    "model = getModel()\n",
    "model.summary()\n",
    "print(ptBins.shape)"
   ]
  },
  {
   "cell_type": "markdown",
   "metadata": {},
   "source": [
    "## Train model"
   ]
  },
  {
   "cell_type": "code",
   "execution_count": 57,
   "metadata": {},
   "outputs": [
    {
     "name": "stdout",
     "output_type": "stream",
     "text": [
      "Training start. Current Time = Jun 14 2021 08:13:41\n",
      "Epoch 1/5\n",
      "2542/2542 [==============================] - 244s 96ms/step - loss: 1.6789 - pt_loss: 1.6459 - charge_loss: 0.0330 - pt_pt_accuracy: 0.3741 - charge_charge_accuracy: 0.9850 - val_loss: 1.8978 - val_pt_loss: 1.7918 - val_charge_loss: 0.1060 - val_pt_pt_accuracy: 0.3778 - val_charge_charge_accuracy: 0.9688\n",
      "Epoch 2/5\n",
      "2542/2542 [==============================] - 228s 90ms/step - loss: 1.6751 - pt_loss: 1.6424 - charge_loss: 0.0327 - pt_pt_accuracy: 0.3753 - charge_charge_accuracy: 0.9851 - val_loss: 1.9041 - val_pt_loss: 1.7975 - val_charge_loss: 0.1066 - val_pt_pt_accuracy: 0.3779 - val_charge_charge_accuracy: 0.9691\n",
      "Epoch 3/5\n",
      "2542/2542 [==============================] - 229s 90ms/step - loss: 1.6714 - pt_loss: 1.6390 - charge_loss: 0.0324 - pt_pt_accuracy: 0.3764 - charge_charge_accuracy: 0.9852 - val_loss: 1.9053 - val_pt_loss: 1.7976 - val_charge_loss: 0.1077 - val_pt_pt_accuracy: 0.3785 - val_charge_charge_accuracy: 0.9688\n",
      "Epoch 4/5\n",
      "2542/2542 [==============================] - 234s 92ms/step - loss: 1.6692 - pt_loss: 1.6369 - charge_loss: 0.0322 - pt_pt_accuracy: 0.3771 - charge_charge_accuracy: 0.9853 - val_loss: 1.9173 - val_pt_loss: 1.8084 - val_charge_loss: 0.1089 - val_pt_pt_accuracy: 0.3795 - val_charge_charge_accuracy: 0.9682\n",
      "Epoch 5/5\n",
      "2542/2542 [==============================] - 233s 92ms/step - loss: 1.6665 - pt_loss: 1.6344 - charge_loss: 0.0321 - pt_pt_accuracy: 0.3779 - charge_charge_accuracy: 0.9853 - val_loss: 1.9154 - val_pt_loss: 1.8058 - val_charge_loss: 0.1097 - val_pt_pt_accuracy: 0.3815 - val_charge_charge_accuracy: 0.9679\n",
      "INFO:tensorflow:Assets written to: training/model_full_0005/assets\n",
      "Training end. Current Time = Jun 14 2021 08:33:12\n"
     ]
    }
   ],
   "source": [
    "current_time = datetime.now().strftime(\"%b %d %Y %H:%M:%S\")\n",
    "print(\"Training start. Current Time =\", current_time)\n",
    "\n",
    "trainFileNames = glob.glob(trainDataDir+'OMTFHits_pats0x0003_oldSample_files_*_chunk_0.tfrecord.gzip')\n",
    "validationFileNames = glob.glob(testDataDir+'OMTFHits_pats0x0003_newerSample_files_1_100_chunk_0.tfrecord.gzip')\n",
    "\n",
    "train_dataset = loadDataset(trainFileNames, isTrain=True, nEpochs=1, batchSize=4*4096)\n",
    "validation_dataset = loadDataset(validationFileNames, isTrain=True, nEpochs=1, batchSize=1024)\n",
    "\n",
    "model = getModel()\n",
    "\n",
    "nEpochsSaved = 3\n",
    "checkpoint_path = \"training/model_full_{epoch:04d}\"\n",
    "model = loadModel(checkpoint_path)\n",
    "\n",
    "log_dir = \"logs/fit/\" + datetime.now().strftime(\"%Y%m%d-%H%M%S\")\n",
    "tensorboard_callback = tf.keras.callbacks.TensorBoard(log_dir=log_dir, histogram_freq=1, profile_batch=(110, 120))\n",
    "\n",
    "nEpochs = 5\n",
    "history = model.fit(train_dataset, epochs=nEpochs,\n",
    "                            use_multiprocessing=True,\n",
    "                            verbose=1,\n",
    "                            shuffle=False,\n",
    "                            validation_data=validation_dataset.take(10),\n",
    "                            callbacks=[tensorboard_callback]\n",
    "                           )\n",
    "# Save the whole model\n",
    "path = \"training/model_full_{epoch:04d}\"\n",
    "model.save(path.format(epoch=nEpochs), save_format='tf')\n",
    "#Save model weights\n",
    "path = \"training/model_weights_{epoch:04d}.ckpt\"\n",
    "model.save_weights(path.format(epoch=nEpochs))\n",
    "\n",
    "current_time = datetime.now().strftime(\"%b %d %Y %H:%M:%S\")\n",
    "print(\"Training end. Current Time =\", current_time)"
   ]
  },
  {
   "cell_type": "markdown",
   "metadata": {},
   "source": [
    "## Model evaluation\n",
    "\n",
    "The plots show the \"posterior\" probability that a given muons has $p_{T}$ in given bin. The correct behaviour is a peak round the true value, marked by a gren line.\n",
    "Unfortunetly a small fraction of muons with very low true $p_{T}$, around a few GeV/c receive a vey large $p_{T}$ assigned by the NN: this is a big bump around 100 GeV/c.\n",
    "This can be seen on the second plot: a efficency plot, where Y axis show fraction of muons with true $p_{T}$ marked by the X value, that get a NN or OMTF (human designed algorithm) greater or equal to 20 GeV/c. A small peak arount 3 GeV/c is visible. **Although this is small, it has very bad consequences, and has to be removed.**"
   ]
  },
  {
   "cell_type": "code",
   "execution_count": 58,
   "metadata": {},
   "outputs": [
    {
     "name": "stdout",
     "output_type": "stream",
     "text": [
      "Inference start. Current Time = Jun 14 2021 08:37:36\n",
      "Model: \"NN\"\n",
      "__________________________________________________________________________________________________\n",
      "Layer (type)                    Output Shape         Param #     Connected to                     \n",
      "==================================================================================================\n",
      "deltaPhi (InputLayer)           [(None, 18, 128)]    0                                            \n",
      "__________________________________________________________________________________________________\n",
      "Flatten_input_pt (Flatten)      (None, 2304)         0           deltaPhi[0][0]                   \n",
      "__________________________________________________________________________________________________\n",
      "Pt_layer_0 (Dense)              (None, 512)          1180160     Flatten_input_pt[0][0]           \n",
      "__________________________________________________________________________________________________\n",
      "Pt_layer_1 (Dense)              (None, 512)          262656      Pt_layer_0[0][0]                 \n",
      "__________________________________________________________________________________________________\n",
      "Flatten_input_charge (Flatten)  (None, 2304)         0           deltaPhi[0][0]                   \n",
      "__________________________________________________________________________________________________\n",
      "Pt_layer_2 (Dense)              (None, 512)          262656      Pt_layer_1[0][0]                 \n",
      "__________________________________________________________________________________________________\n",
      "Charge_layer_0 (Dense)          (None, 32)           73760       Flatten_input_charge[0][0]       \n",
      "__________________________________________________________________________________________________\n",
      "pt (Dense)                      (None, 45)           23085       Pt_layer_2[0][0]                 \n",
      "__________________________________________________________________________________________________\n",
      "charge (Dense)                  (None, 1)            33          Charge_layer_0[0][0]             \n",
      "==================================================================================================\n",
      "Total params: 1,802,350\n",
      "Trainable params: 1,802,350\n",
      "Non-trainable params: 0\n",
      "__________________________________________________________________________________________________\n",
      "(45,)\n",
      "Inference end. Current Time = Jun 14 2021 08:37:59\n"
     ]
    }
   ],
   "source": [
    "import pandas as pd\n",
    "import importlib\n",
    "import plottingFunctions as plf\n",
    "importlib.reload(plf)\n",
    "\n",
    "cumulativePosteriorCut = 0.75\n",
    "\n",
    "if not runOnCluster:\n",
    "    \n",
    "    current_time = datetime.now().strftime(\"%b %d %Y %H:%M:%S\")   \n",
    "    print(\"Inference start. Current Time =\", current_time)\n",
    "    \n",
    "    nEpochsSaved = 5\n",
    "    checkpoint_path = \"training/model_full_{epoch:04d}\"\n",
    "    model = tf.keras.models.load_model(checkpoint_path.format(epoch=nEpochsSaved), custom_objects=custom_objects)\n",
    "    model.summary()\n",
    "    print(ptBins.shape)\n",
    "\n",
    "    testFileNames = glob.glob(testDataDir+'OMTFHits_pats0x0003_newerSample_files_1_100_chunk_0.tfrecord.gzip')    \n",
    "    test_dataset = loadDataset(testFileNames, isTrain=False, nEpochs=1, batchSize=32*1024)\n",
    "    \n",
    "    df = pd.DataFrame(columns=[\"genPt\", \"genCharge\", \n",
    "                                \"OMTF_pt\",\"OMTF_charge\",\n",
    "                                \"NN_pt\",\"NN_charge\",\"NN_prob\"])\n",
    "    for aBatch in test_dataset.as_numpy_iterator():\n",
    "        df = fillPandasDataset(aBatch, df, cumulativePosteriorCut)\n",
    "        \n",
    "        #predictions = model.predict(aBatch[0], use_multiprocessing=True)\n",
    "        #plf.plotPosterior(3, labels=aBatch[1][0], predictions=predictions[0], label2Pt=label2Pt)\n",
    "        #break\n",
    "    \n",
    "    current_time = datetime.now().strftime(\"%b %d %Y %H:%M:%S\")\n",
    "    print(\"Inference end. Current Time =\", current_time)"
   ]
  },
  {
   "cell_type": "code",
   "execution_count": 56,
   "metadata": {},
   "outputs": [
    {
     "data": {
      "image/png": "[encoded data removed]",
      "text/plain": [
       "<Figure size 720x504 with 3 Axes>"
      ]
     },
     "metadata": {
      "needs_background": "light"
     },
     "output_type": "display_data"
    },
    {
     "data": {
      "image/png": "[encoded data removed]",
      "text/plain": [
       "<Figure size 720x504 with 2 Axes>"
      ]
     },
     "metadata": {
      "needs_background": "light"
     },
     "output_type": "display_data"
    }
   ],
   "source": [
    "import plottingFunctions as plf\n",
    "importlib.reload(plf)\n",
    "\n",
    "#df1 = df[(df[\"genPt\"]<10)&(df[\"genPt\"]>0)]\n",
    "#plf.plotCM(df1, pT2Label)\n",
    "#plf.plotPull(df1)\n",
    "plf.plotTurnOn(df, ptCut=25)\n",
    "'''\n",
    "plf.plotTurnOn(df, ptCut=5)\n",
    "plf.plotTurnOn(df, ptCut=10)\n",
    "plf.plotTurnOn(df, ptCut=20)\n",
    "plf.plotTurnOn(df, ptCut=22)\n",
    "plf.plotTurnOn(df, ptCut=23)\n",
    "plf.plotTurnOn(df, ptCut=24)\n",
    "plf.plotTurnOn(df, ptCut=25)\n",
    "plf.plotTurnOn(df, ptCut=30)\n",
    "plf.plotTurnOn(df, ptCut=40)\n",
    "plf.plotTurnOn(df, ptCut=50)\n",
    "plf.plotTurnOn(df, ptCut=100)\n",
    "plf.plotTurnOn(df, ptCut=150)\n",
    "plf.plotTurnOn(df, ptCut=200)\n",
    "plf.plotPull(df)\n",
    "plf.plotCM(df, pT2Label)\n",
    "'''\n",
    "plf.plotRate(df)"
   ]
  },
  {
   "cell_type": "code",
   "execution_count": null,
   "metadata": {},
   "outputs": [],
   "source": [
    "import plottingFunctions as plf\n",
    "importlib.reload(plf)\n",
    "\n",
    "df1 = df[(df[\"genPt\"]>10)&(df[\"genPt\"]<20)]\n",
    "\n",
    "plf.plotCM(df1, pT2Label)\n",
    "plf.plotPull(df1)"
   ]
  },
  {
   "cell_type": "code",
   "execution_count": null,
   "metadata": {},
   "outputs": [],
   "source": []
  }
 ],
 "metadata": {
  "kernelspec": {
   "display_name": "Python 3",
   "language": "python",
   "name": "python3"
  },
  "language_info": {
   "codemirror_mode": {
    "name": "ipython",
    "version": 3
   },
   "file_extension": ".py",
   "mimetype": "text/x-python",
   "name": "python",
   "nbconvert_exporter": "python",
   "pygments_lexer": "ipython3",
   "version": "3.6.9"
  }
 },
 "nbformat": 4,
 "nbformat_minor": 4
}
