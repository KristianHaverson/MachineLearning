{
 "cells": [
  {
   "attachments": {},
   "cell_type": "markdown",
   "metadata": {},
   "source": [
    "## import"
   ]
  },
  {
   "cell_type": "code",
   "execution_count": 2,
   "metadata": {},
   "outputs": [
    {
     "name": "stderr",
     "output_type": "stream",
     "text": [
      "2023-07-01 17:50:57.712949: I tensorflow/core/platform/cpu_feature_guard.cc:182] This TensorFlow binary is optimized to use available CPU instructions in performance-critical operations.\n",
      "To enable the following instructions: AVX2 FMA, in other operations, rebuild TensorFlow with the appropriate compiler flags.\n",
      "2023-07-01 17:51:00.977471: W tensorflow/compiler/tf2tensorrt/utils/py_utils.cc:38] TF-TRT Warning: Could not find TensorRT\n"
     ]
    },
    {
     "data": {
      "text/plain": [
       "<contextlib.ExitStack at 0x7f1fe01c4b50>"
      ]
     },
     "execution_count": 2,
     "metadata": {},
     "output_type": "execute_result"
    }
   ],
   "source": [
    "import importlib\n",
    "import sys\n",
    "import time\n",
    "from functools import partial\n",
    "\n",
    "import numpy as np\n",
    "import pandas as pd\n",
    "import seaborn as sns\n",
    "import scipy\n",
    "from scipy import ndimage\n",
    "from skimage import io, transform\n",
    "\n",
    "import matplotlib.pyplot as plt\n",
    "from matplotlib import colors\n",
    "from matplotlib.patches import Rectangle\n",
    "from mpl_toolkits.axes_grid1.axes_divider import make_axes_locatable\n",
    "\n",
    "import torch\n",
    "import torch.nn as nn\n",
    "import torch.optim as optim\n",
    "import torch.backends.cudnn as cudnn\n",
    "import torch.nn.functional as F\n",
    "from torch.optim import lr_scheduler\n",
    "from torch.utils.data import DataLoader, random_split\n",
    "\n",
    "import torchvision\n",
    "from torchvision import datasets, models, transforms\n",
    "import tensorflow as tf\n",
    "\n",
    "from sklearn.metrics import confusion_matrix\n",
    "\n",
    "import uproot\n",
    "\n",
    "cudnn.benchmark = True\n",
    "plt.ion()\n"
   ]
  },
  {
   "attachments": {},
   "cell_type": "markdown",
   "metadata": {},
   "source": [
    "# functions"
   ]
  },
  {
   "cell_type": "code",
   "execution_count": 261,
   "metadata": {},
   "outputs": [],
   "source": [
    "fields = [\n",
    "    \"Event/myChargeArray*\",\n",
    "]\n",
    "def padTensorData(batch_data):\n",
    "\n",
    "    max_dim = max(batch_data.size(1), batch_data.size(2))\n",
    "    pad_width = max_dim - batch_data.size(2)\n",
    "    pad_height = max_dim - batch_data.size(1)\n",
    "    top_pad = pad_height // 2\n",
    "    bottom_pad = pad_height - top_pad\n",
    "    left_pad = pad_width // 2\n",
    "    right_pad = pad_width - left_pad\n",
    "    padded_tensor = F.pad(batch_data, (0,0,left_pad, right_pad, top_pad, bottom_pad), value=0)\n",
    "    return padded_tensor\n",
    "\n",
    "\n",
    "def generator2(files, batchSize):\n",
    "\n",
    "    for array in uproot.iterate(files, step_size=batchSize,filter_name=fields,  library=\"ak\"):\n",
    "        features = array[\"myChargeArray[3][3][256][512]\"].to_numpy()\n",
    "        features = features.astype(float)\n",
    "        features = np.sum(features, axis=2)\n",
    "        features = np.moveaxis(features, 1, -1)\n",
    "        \n",
    "        # find max pixel in image, from merged image\n",
    "        #merged_image = np.sum(features, axis=(3))\n",
    "\n",
    "        # features/=np.amax(merged_image, keepdims=True)\n",
    "        features /= np.amax(features, axis=(1,2,3), keepdims=True)\n",
    "\n",
    "\n",
    "        tensor_data = torch.from_numpy(np.array(features))\n",
    "        tensor_data = tensor_data.float()\n",
    "        padded_tensor_data = padTensorData(tensor_data)\n",
    "\n",
    "       # padded_tensor_data = padded_tensor_data.permute(0, 3, 1, 2)\n",
    "\n",
    "        \n",
    "        #print(padded_tensor_data.shape)\n",
    "\n",
    "        labels =  np.full((batchSize, ), 1.0)\n",
    "        yield padded_tensor_data , labels\n"
   ]
  },
  {
   "attachments": {},
   "cell_type": "markdown",
   "metadata": {},
   "source": [
    "# model"
   ]
  },
  {
   "cell_type": "code",
   "execution_count": 11,
   "metadata": {},
   "outputs": [],
   "source": [
    "device = torch.device(\"cuda:0\" if torch.cuda.is_available() else \"cpu\")\n",
    "\n",
    "def train_model(model, criterion, optimizer, scheduler, num_epochs=25):\n",
    "\n",
    "    # start a timer\n",
    "    since = time.time()\n",
    "\n",
    "    # track the best performing model\n",
    "    best_model_wts = copy.deepcopy(model.state_dict())\n",
    "    best_acc = 0.0\n",
    "\n",
    "    # iterate over all epochs\n",
    "    for epoch in range(num_epochs):\n",
    "\n",
    "        # show the current epoch we are on\n",
    "        print(f'Epoch {epoch}/{num_epochs - 1}')\n",
    "        print('-' * 10)\n",
    "\n",
    "        # each epoch has a training and validation phase\n",
    "        for phase in ['train', 'val']:\n",
    "            if phase == 'train':\n",
    "                model.train()  # set model to training mode\n",
    "            else:\n",
    "                model.eval()   # set model to evaluate mode\n",
    "\n",
    "            running_loss = 0.0\n",
    "            running_corrects = 0\n",
    "\n",
    "            # iterate over data\n",
    "            for inputs, labels in dataloaders[phase]:\n",
    "                inputs = inputs.to(device)\n",
    "                labels = labels.to(device)\n",
    "\n",
    "                # zero the parameter gradients\n",
    "                optimizer.zero_grad()\n",
    "\n",
    "                # forward pass (track gradients if only in train mode)\n",
    "                with torch.set_grad_enabled(phase == 'train'):\n",
    "                    outputs = model(inputs)\n",
    "                    _, preds = torch.max(outputs, 1)\n",
    "                    loss = criterion(outputs, labels)\n",
    "\n",
    "                    # backward + optimize only if in train mode\n",
    "                    if phase == 'train':\n",
    "                        loss.backward()\n",
    "                        optimizer.step()\n",
    "\n",
    "                # track the performance statistics\n",
    "                running_loss += loss.item() * inputs.size(0)\n",
    "                running_corrects += torch.sum(preds == labels.data)\n",
    "\n",
    "            # step the learning rate scheduler if in train mode\n",
    "            if phase == 'train':\n",
    "                scheduler.step()\n",
    "\n",
    "            # keep track of the overall loss and accuracy over each epoch\n",
    "            epoch_loss = running_loss / dataset_sizes[phase]\n",
    "            epoch_acc = running_corrects.double() / dataset_sizes[phase]\n",
    "            print(f'{phase} loss: {epoch_loss:.4f}, acc: {epoch_acc:.4f}')\n",
    "\n",
    "            # keep a deep copy of the best performing model\n",
    "            if phase == 'val' and epoch_acc > best_acc:\n",
    "                best_acc = epoch_acc\n",
    "                best_model_wts = copy.deepcopy(model.state_dict())\n",
    "\n",
    "        print()\n",
    "\n",
    "    # track the time taken\n",
    "    time_elapsed = time.time() - since\n",
    "    print(f'training complete in {time_elapsed // 60:.0f}m {time_elapsed % 60:.0f}s')\n",
    "    print(f'best val acc: {best_acc:4f}')\n",
    "\n",
    "    # load best model weights\n",
    "    model.load_state_dict(best_model_wts)\n",
    "    return model"
   ]
  },
  {
   "attachments": {},
   "cell_type": "markdown",
   "metadata": {},
   "source": [
    "# dataloaders"
   ]
  },
  {
   "cell_type": "code",
   "execution_count": 262,
   "metadata": {},
   "outputs": [],
   "source": [
    "\n",
    "batchSize=10\n",
    "path = '/home/kris/Documents/coding/WAWTPC/krisTPCReco/TPCReco-kris/build/resources/'\n",
    "\n",
    "#################################################\n",
    "class1Files = [path+'C12_ALPHA_1k_131MeV_250mbar_.root:TPCData']\n",
    "datasetGenerator = partial(generator2, files=class1Files, batchSize=batchSize)\n",
    "dataset = list(datasetGenerator())\n",
    "dataloader = DataLoader(dataset, batch_size=batchSize, shuffle=True)\n",
    "\n"
   ]
  },
  {
   "attachments": {},
   "cell_type": "markdown",
   "metadata": {},
   "source": [
    "# inspect data"
   ]
  },
  {
   "cell_type": "code",
   "execution_count": 275,
   "metadata": {},
   "outputs": [
    {
     "name": "stdout",
     "output_type": "stream",
     "text": [
      "====================\n",
      " no entries        ->  1000\n",
      " no batches        ->  10\n",
      " entries per batch ->  100.0\n",
      "====================\n",
      "10\n",
      "10\n",
      "====================\n",
      "100\n",
      "100\n",
      "====================\n"
     ]
    },
    {
     "data": {
      "image/png": "[encoded data removed]",
      "text/plain": [
       "<Figure size 640x480 with 1 Axes>"
      ]
     },
     "metadata": {},
     "output_type": "display_data"
    }
   ],
   "source": [
    "total=0\n",
    "array=[]\n",
    "arrayLab=[]\n",
    "\n",
    "arrayOfBatches=[]\n",
    "arrayOfLabels=[]\n",
    "\n",
    "for batch_images, batch_labels in dataloader:\n",
    "    # Iterate over each sample in the batch\n",
    "    i=0\n",
    "    for event, label in zip(batch_images, batch_labels):\n",
    "        #print(\"batch: \",event.shape)\n",
    "        #print(\"Label:\", label.shape)\n",
    "        #print(\"event in batch : \",event[i].shape)\n",
    "        #print(\"Label:\", label)\n",
    "        array.append(event[i])\n",
    "        arrayLab.append(label[i])\n",
    "        i=i+1\n",
    "\n",
    "    arrayOfBatches.append(array)\n",
    "    arrayOfLabels.append(arrayLab)\n",
    "\n",
    "\n",
    "##########################################################\n",
    "##########################################################\n",
    "\n",
    "\n",
    "print('====================')\n",
    "print(' no entries        -> ',1000)\n",
    "print(' no batches        -> ',batchSize)\n",
    "print(' entries per batch -> ',1000/batchSize)\n",
    "print('====================')\n",
    "print( len(arrayOfLabels))  # should be the same as length of no of batches\n",
    "print( len(arrayOfBatches)) # should be the same as length of no of batches\n",
    "print('====================')\n",
    "print( len(arrayOfLabels[0]))  # should be the same as length of no of entries per batches\n",
    "print( len(arrayOfBatches[0])) # should be the same as length of no of entries per batches\n",
    "\n",
    "\n",
    "\n",
    "batch    = 2\n",
    "getEntry = 0\n",
    "data = arrayOfBatches[batch][getEntry]\n",
    "\n",
    "print('====================')\n",
    "\n",
    "fig, axis = plt.subplots()\n",
    "im = axis.imshow(data, origin='lower', aspect='auto')\n",
    "\n",
    "\n"
   ]
  },
  {
   "attachments": {},
   "cell_type": "markdown",
   "metadata": {},
   "source": [
    "# plot an entry"
   ]
  },
  {
   "cell_type": "code",
   "execution_count": null,
   "metadata": {},
   "outputs": [],
   "source": []
  },
  {
   "cell_type": "code",
   "execution_count": null,
   "metadata": {},
   "outputs": [],
   "source": []
  },
  {
   "cell_type": "code",
   "execution_count": null,
   "metadata": {},
   "outputs": [],
   "source": []
  },
  {
   "attachments": {},
   "cell_type": "markdown",
   "metadata": {},
   "source": [
    "# load model"
   ]
  },
  {
   "cell_type": "code",
   "execution_count": null,
   "metadata": {},
   "outputs": [],
   "source": []
  },
  {
   "cell_type": "code",
   "execution_count": 36,
   "metadata": {},
   "outputs": [
    {
     "data": {
      "text/plain": [
       "'\\nmerged_dataset = class1.concatenate(class2)\\nshuffled_dataset = merged_dataset.shuffle(buffer_size=2000)\\ntrain_ratio = 0.7\\n\\ntotal_samples =2000\\ntrain_samples = int(train_ratio * total_samples)\\ntest_samples = total_samples - train_samples\\n\\n# Split the shuffled dataset into train and test\\ntrain_dataset = shuffled_dataset.take(train_samples)\\nvalid_dataset = shuffled_dataset.skip(train_samples)\\n\\n\\nmodel_ft = models.resnet18(pretrained=True) # <------------------------------------------------------------\\n\\nnum_epochs = 10\\nbatch_size = 10\\nlearning_rate = 0.001\\ninput_shape = (512, 512, 3)\\n\\ndevice = torch.device(\"cuda:0\" if torch.cuda.is_available() else \"cpu\")\\n\\n\\ntrain_dataloader = train_dataset.batch(batch_size)\\nvalid_dataloader = valid_dataset.batch(batch_size)\\n\\nnum_ftrs = model_ft.fc.in_features\\n\\n# initialise a fully connected layer with appropriate dimensions (num_ftrs x num_classes)\\nmodel_ft.fc = nn.Linear(num_ftrs, 2) # <------------------------------------------------------------\\nmodel_ft = model_ft.to(device)\\n\\n# set the loss function\\ncriterion = nn.CrossEntropyLoss()\\n\\n# set the optimiser\\noptimizer_ft = optim.SGD(model_ft.parameters(), lr=0.001, momentum=0.90)\\n\\n# decay LR by a factor of 0.1 every 7 epochs\\nexp_lr_scheduler = lr_scheduler.StepLR(optimizer_ft, step_size=5, gamma=0.1)\\n'"
      ]
     },
     "execution_count": 36,
     "metadata": {},
     "output_type": "execute_result"
    }
   ],
   "source": [
    "\n",
    "\n",
    "\n",
    "\"\"\"\n",
    "merged_dataset = class1.concatenate(class2)\n",
    "shuffled_dataset = merged_dataset.shuffle(buffer_size=2000)\n",
    "train_ratio = 0.7\n",
    "\n",
    "total_samples =2000\n",
    "train_samples = int(train_ratio * total_samples)\n",
    "test_samples = total_samples - train_samples\n",
    "\n",
    "# Split the shuffled dataset into train and test\n",
    "train_dataset = shuffled_dataset.take(train_samples)\n",
    "valid_dataset = shuffled_dataset.skip(train_samples)\n",
    "\n",
    "\n",
    "model_ft = models.resnet18(pretrained=True) # <------------------------------------------------------------\n",
    "\n",
    "num_epochs = 10\n",
    "batch_size = 10\n",
    "learning_rate = 0.001\n",
    "input_shape = (512, 512, 3)\n",
    "\n",
    "device = torch.device(\"cuda:0\" if torch.cuda.is_available() else \"cpu\")\n",
    "\n",
    "\n",
    "train_dataloader = train_dataset.batch(batch_size)\n",
    "valid_dataloader = valid_dataset.batch(batch_size)\n",
    "\n",
    "num_ftrs = model_ft.fc.in_features\n",
    "\n",
    "# initialise a fully connected layer with appropriate dimensions (num_ftrs x num_classes)\n",
    "model_ft.fc = nn.Linear(num_ftrs, 2) # <------------------------------------------------------------\n",
    "model_ft = model_ft.to(device)\n",
    "\n",
    "# set the loss function\n",
    "criterion = nn.CrossEntropyLoss()\n",
    "\n",
    "# set the optimiser\n",
    "optimizer_ft = optim.SGD(model_ft.parameters(), lr=0.001, momentum=0.90)\n",
    "\n",
    "# decay LR by a factor of 0.1 every 7 epochs\n",
    "exp_lr_scheduler = lr_scheduler.StepLR(optimizer_ft, step_size=5, gamma=0.1)\n",
    "\"\"\""
   ]
  },
  {
   "cell_type": "code",
   "execution_count": 37,
   "metadata": {},
   "outputs": [
    {
     "ename": "NameError",
     "evalue": "name 'model_ft' is not defined",
     "output_type": "error",
     "traceback": [
      "\u001b[0;31m---------------------------------------------------------------------------\u001b[0m",
      "\u001b[0;31mNameError\u001b[0m                                 Traceback (most recent call last)",
      "Cell \u001b[0;32mIn[37], line 55\u001b[0m\n\u001b[1;32m     52\u001b[0m         scheduler\u001b[39m.\u001b[39mstep()\n\u001b[1;32m     54\u001b[0m \u001b[39m# Call the train_model function to start training\u001b[39;00m\n\u001b[0;32m---> 55\u001b[0m train_model(model_ft, criterion, optimizer_ft, exp_lr_scheduler, num_epochs)\n",
      "\u001b[0;31mNameError\u001b[0m: name 'model_ft' is not defined"
     ]
    }
   ],
   "source": [
    "def train_model(model, criterion, optimizer, scheduler, num_epochs):\n",
    "    for epoch in range(num_epochs):\n",
    "        model.train()\n",
    "        running_loss = 0.0\n",
    "        correct_predictions = 0\n",
    "\n",
    "        for inputs, labels in train_dataloader:\n",
    "            inputs = inputs.to(device)\n",
    "            labels = labels.to(device)\n",
    "\n",
    "            optimizer.zero_grad()\n",
    "\n",
    "            outputs = model(inputs)\n",
    "            _, predicted = torch.max(outputs, 1)\n",
    "\n",
    "            loss = criterion(outputs, labels)\n",
    "            loss.backward()\n",
    "            optimizer.step()\n",
    "\n",
    "            running_loss += loss.item()\n",
    "            correct_predictions += torch.sum(predicted == labels).item()\n",
    "\n",
    "        epoch_loss = running_loss / len(train_dataset)\n",
    "        epoch_accuracy = correct_predictions / len(train_dataset)\n",
    "\n",
    "        print(f\"Epoch {epoch+1}/{num_epochs}:\")\n",
    "        print(f\"Train Loss: {epoch_loss:.4f} Train Accuracy: {epoch_accuracy:.4f}\")\n",
    "\n",
    "        model.eval()\n",
    "        valid_loss = 0.0\n",
    "        valid_correct_predictions = 0\n",
    "\n",
    "        for inputs, labels in valid_dataloader:\n",
    "            inputs = inputs.to(device)\n",
    "            labels = labels.to(device)\n",
    "\n",
    "            with torch.no_grad():\n",
    "                outputs = model(inputs)\n",
    "                _, predicted = torch.max(outputs, 1)\n",
    "\n",
    "                loss = criterion(outputs, labels)\n",
    "\n",
    "                valid_loss += loss.item()\n",
    "                valid_correct_predictions += torch.sum(predicted == labels).item()\n",
    "\n",
    "        valid_loss /= len(valid_dataset)\n",
    "        valid_accuracy = valid_correct_predictions / len(valid_dataset)\n",
    "\n",
    "        print(f\"Validation Loss: {valid_loss:.4f} Validation Accuracy: {valid_accuracy:.4f}\")\n",
    "        print(\"-----------------------------------------\")\n",
    "\n",
    "        scheduler.step()\n",
    "\n",
    "# Call the train_model function to start training\n",
    "train_model(model_ft, criterion, optimizer_ft, exp_lr_scheduler, num_epochs)\n"
   ]
  },
  {
   "cell_type": "code",
   "execution_count": null,
   "metadata": {},
   "outputs": [],
   "source": [
    "class1 = class1.shuffle(buffer_size=100)\n",
    "class2 = class2.shuffle(buffer_size=100)\n",
    "\n",
    "class1_count = len(list(class1))\n",
    "class2_count = len(list(class2))\n",
    "\n",
    "# Determine the number of samples for the train and test sets\n",
    "train_count = int(0.7 * min(class1_count, class2_count))\n",
    "test_count = int(0.3 * min(class1_count, class2_count))\n",
    "\n",
    "# Take the desired number of samples from each class for train and test sets\n",
    "train_class1 = class1.take(train_count)\n",
    "train_class2 = class2.take(train_count)\n",
    "\n",
    "test_class1 = class1.skip(train_count).take(test_count)\n",
    "test_class2 = class2.skip(train_count).take(test_count)\n",
    "\n",
    "# Concatenate the train datasets of both classes\n",
    "train_dataset = train_class1.concatenate(train_class2)\n",
    "\n",
    "# Concatenate the test datasets of both classes\n",
    "test_dataset = test_class1.concatenate(test_class2)\n",
    "\n",
    "# Shuffle the train dataset\n",
    "train_dataset = train_dataset.shuffle(buffer_size=200)"
   ]
  },
  {
   "cell_type": "code",
   "execution_count": null,
   "metadata": {},
   "outputs": [
    {
     "ename": "TypeError",
     "evalue": "The dataset length is unknown.",
     "output_type": "error",
     "traceback": [
      "\u001b[0;31m---------------------------------------------------------------------------\u001b[0m",
      "\u001b[0;31mTypeError\u001b[0m                                 Traceback (most recent call last)",
      "Cell \u001b[0;32mIn[6], line 2\u001b[0m\n\u001b[1;32m      1\u001b[0m dataloaders \u001b[39m=\u001b[39m {\u001b[39m'\u001b[39m\u001b[39mtrain\u001b[39m\u001b[39m'\u001b[39m: train_dataset, \u001b[39m'\u001b[39m\u001b[39mtest\u001b[39m\u001b[39m'\u001b[39m: test_dataset}\n\u001b[0;32m----> 2\u001b[0m dataset_sizes \u001b[39m=\u001b[39m {\u001b[39m'\u001b[39m\u001b[39mtrain\u001b[39m\u001b[39m'\u001b[39m: \u001b[39mlen\u001b[39;49m(train_dataset), \u001b[39m'\u001b[39m\u001b[39mval\u001b[39m\u001b[39m'\u001b[39m: \u001b[39mlen\u001b[39m(test_dataset)}\n",
      "File \u001b[0;32m~/.local/lib/python3.10/site-packages/tensorflow/python/data/ops/dataset_ops.py:537\u001b[0m, in \u001b[0;36mDatasetV2.__len__\u001b[0;34m(self)\u001b[0m\n\u001b[1;32m    535\u001b[0m   \u001b[39mraise\u001b[39;00m \u001b[39mTypeError\u001b[39;00m(\u001b[39m\"\u001b[39m\u001b[39mThe dataset is infinite.\u001b[39m\u001b[39m\"\u001b[39m)\n\u001b[1;32m    536\u001b[0m \u001b[39mif\u001b[39;00m length\u001b[39m.\u001b[39mnumpy() \u001b[39m==\u001b[39m UNKNOWN:\n\u001b[0;32m--> 537\u001b[0m   \u001b[39mraise\u001b[39;00m \u001b[39mTypeError\u001b[39;00m(\u001b[39m\"\u001b[39m\u001b[39mThe dataset length is unknown.\u001b[39m\u001b[39m\"\u001b[39m)\n\u001b[1;32m    538\u001b[0m \u001b[39mreturn\u001b[39;00m length\n",
      "\u001b[0;31mTypeError\u001b[0m: The dataset length is unknown."
     ]
    }
   ],
   "source": []
  },
  {
   "cell_type": "code",
   "execution_count": null,
   "metadata": {},
   "outputs": [
    {
     "ename": "ValueError",
     "evalue": "cannot convert <RecordArray is_tuple='false' len='10'>\n    <content index='0' field='myChargeArray[3][3][256][512]'>\n        <RegularArray size='3' len='10'>\n            <content><RegularArray size='3' len='30'>\n                <content><RegularArray size='256' len='90'>\n                    <content><RegularArray size='512' len='23040'>\n                        <content><NumpyArray dtype='float32' len='11796480'>[0. 0. 0. ... 0. 0. 0.]</NumpyArray></content>\n                    </RegularArray></content>\n                </RegularArray></content>\n            </RegularArray></content>\n        </RegularArray>\n    </content>\n</RecordArray> into np.ndarray\n\nThis error occurred while calling\n\n    ak.to_numpy(\n        <Array [{...}, {...}, ..., {...}, {...}] type='10 * {\"myChargeArray...'>\n    )",
     "output_type": "error",
     "traceback": [
      "\u001b[0;31m---------------------------------------------------------------------------\u001b[0m",
      "\u001b[0;31mValueError\u001b[0m                                Traceback (most recent call last)",
      "File \u001b[0;32m~/.local/lib/python3.10/site-packages/awkward/_dispatch.py:43\u001b[0m, in \u001b[0;36mhigh_level_function.<locals>.dispatch\u001b[0;34m(*args, **kwargs)\u001b[0m\n\u001b[1;32m     42\u001b[0m \u001b[39mtry\u001b[39;00m:\n\u001b[0;32m---> 43\u001b[0m     \u001b[39mnext\u001b[39;49m(gen_or_result)\n\u001b[1;32m     44\u001b[0m \u001b[39mexcept\u001b[39;00m \u001b[39mStopIteration\u001b[39;00m \u001b[39mas\u001b[39;00m err:\n",
      "File \u001b[0;32m~/.local/lib/python3.10/site-packages/awkward/operations/ak_to_numpy.py:44\u001b[0m, in \u001b[0;36mto_numpy\u001b[0;34m(array, allow_missing)\u001b[0m\n\u001b[1;32m     43\u001b[0m \u001b[39m# Implementation\u001b[39;00m\n\u001b[0;32m---> 44\u001b[0m \u001b[39mreturn\u001b[39;00m _impl(array, allow_missing)\n",
      "File \u001b[0;32m~/.local/lib/python3.10/site-packages/awkward/operations/ak_to_numpy.py:56\u001b[0m, in \u001b[0;36m_impl\u001b[0;34m(array, allow_missing)\u001b[0m\n\u001b[1;32m     54\u001b[0m numpy_layout \u001b[39m=\u001b[39m layout\u001b[39m.\u001b[39mto_backend(backend)\n\u001b[0;32m---> 56\u001b[0m \u001b[39mreturn\u001b[39;00m numpy_layout\u001b[39m.\u001b[39;49mto_backend_array(allow_missing\u001b[39m=\u001b[39;49mallow_missing)\n",
      "File \u001b[0;32m~/.local/lib/python3.10/site-packages/awkward/contents/content.py:1068\u001b[0m, in \u001b[0;36mContent.to_backend_array\u001b[0;34m(self, allow_missing, backend)\u001b[0m\n\u001b[1;32m   1067\u001b[0m     backend \u001b[39m=\u001b[39m regularize_backend(backend)\n\u001b[0;32m-> 1068\u001b[0m \u001b[39mreturn\u001b[39;00m \u001b[39mself\u001b[39;49m\u001b[39m.\u001b[39;49m_to_backend_array(allow_missing, backend)\n",
      "File \u001b[0;32m~/.local/lib/python3.10/site-packages/awkward/contents/recordarray.py:1117\u001b[0m, in \u001b[0;36mRecordArray._to_backend_array\u001b[0;34m(self, allow_missing, backend)\u001b[0m\n\u001b[1;32m   1116\u001b[0m \u001b[39mif\u001b[39;00m \u001b[39many\u001b[39m(\u001b[39mlen\u001b[39m(x\u001b[39m.\u001b[39mshape) \u001b[39m!=\u001b[39m \u001b[39m1\u001b[39m \u001b[39mfor\u001b[39;00m x \u001b[39min\u001b[39;00m contents):\n\u001b[0;32m-> 1117\u001b[0m     \u001b[39mraise\u001b[39;00m \u001b[39mValueError\u001b[39;00m(\u001b[39mf\u001b[39m\u001b[39m\"\u001b[39m\u001b[39mcannot convert \u001b[39m\u001b[39m{\u001b[39;00m\u001b[39mself\u001b[39m\u001b[39m}\u001b[39;00m\u001b[39m into np.ndarray\u001b[39m\u001b[39m\"\u001b[39m)\n\u001b[1;32m   1118\u001b[0m out \u001b[39m=\u001b[39m backend\u001b[39m.\u001b[39mnplike\u001b[39m.\u001b[39mempty(\n\u001b[1;32m   1119\u001b[0m     \u001b[39mself\u001b[39m\u001b[39m.\u001b[39mlength,\n\u001b[1;32m   1120\u001b[0m     dtype\u001b[39m=\u001b[39m[(\u001b[39mstr\u001b[39m(n), x\u001b[39m.\u001b[39mdtype) \u001b[39mfor\u001b[39;00m n, x \u001b[39min\u001b[39;00m \u001b[39mzip\u001b[39m(\u001b[39mself\u001b[39m\u001b[39m.\u001b[39mfields, contents)],\n\u001b[1;32m   1121\u001b[0m )\n",
      "\u001b[0;31mValueError\u001b[0m: cannot convert <RecordArray is_tuple='false' len='10'>\n    <content index='0' field='myChargeArray[3][3][256][512]'>\n        <RegularArray size='3' len='10'>\n            <content><RegularArray size='3' len='30'>\n                <content><RegularArray size='256' len='90'>\n                    <content><RegularArray size='512' len='23040'>\n                        <content><NumpyArray dtype='float32' len='11796480'>[0. 0. 0. ... 0. 0. 0.]</NumpyArray></content>\n                    </RegularArray></content>\n                </RegularArray></content>\n            </RegularArray></content>\n        </RegularArray>\n    </content>\n</RecordArray> into np.ndarray",
      "\nThe above exception was the direct cause of the following exception:\n",
      "\u001b[0;31mValueError\u001b[0m                                Traceback (most recent call last)",
      "Cell \u001b[0;32mIn[75], line 11\u001b[0m\n\u001b[1;32m      9\u001b[0m \u001b[39m# Iterate through the specified branch\u001b[39;00m\n\u001b[1;32m     10\u001b[0m \u001b[39mfor\u001b[39;00m array \u001b[39min\u001b[39;00m uproot\u001b[39m.\u001b[39miterate(file[branch_name], step_size\u001b[39m=\u001b[39mbatchSize, library\u001b[39m=\u001b[39m\u001b[39m\"\u001b[39m\u001b[39mak\u001b[39m\u001b[39m\"\u001b[39m):\n\u001b[0;32m---> 11\u001b[0m     features \u001b[39m=\u001b[39m ak\u001b[39m.\u001b[39;49mto_numpy(array)\n",
      "File \u001b[0;32m~/.local/lib/python3.10/site-packages/awkward/_dispatch.py:19\u001b[0m, in \u001b[0;36mhigh_level_function.<locals>.dispatch\u001b[0;34m(*args, **kwargs)\u001b[0m\n\u001b[1;32m     16\u001b[0m \u001b[39m@wraps\u001b[39m(func)\n\u001b[1;32m     17\u001b[0m \u001b[39mdef\u001b[39;00m \u001b[39mdispatch\u001b[39m(\u001b[39m*\u001b[39margs, \u001b[39m*\u001b[39m\u001b[39m*\u001b[39mkwargs):\n\u001b[1;32m     18\u001b[0m     \u001b[39m# NOTE: this decorator assumes that the operation is exposed under `ak.`\u001b[39;00m\n\u001b[0;32m---> 19\u001b[0m     \u001b[39mwith\u001b[39;00m OperationErrorContext(\u001b[39mf\u001b[39m\u001b[39m\"\u001b[39m\u001b[39mak.\u001b[39m\u001b[39m{\u001b[39;00mfunc\u001b[39m.\u001b[39m\u001b[39m__qualname__\u001b[39m\u001b[39m}\u001b[39;00m\u001b[39m\"\u001b[39m, args, kwargs):\n\u001b[1;32m     20\u001b[0m         gen_or_result \u001b[39m=\u001b[39m func(\u001b[39m*\u001b[39margs, \u001b[39m*\u001b[39m\u001b[39m*\u001b[39mkwargs)\n\u001b[1;32m     21\u001b[0m         \u001b[39mif\u001b[39;00m isgenerator(gen_or_result):\n",
      "File \u001b[0;32m~/.local/lib/python3.10/site-packages/awkward/_errors.py:63\u001b[0m, in \u001b[0;36mErrorContext.__exit__\u001b[0;34m(self, exception_type, exception_value, traceback)\u001b[0m\n\u001b[1;32m     60\u001b[0m \u001b[39mtry\u001b[39;00m:\n\u001b[1;32m     61\u001b[0m     \u001b[39m# Handle caught exception\u001b[39;00m\n\u001b[1;32m     62\u001b[0m     \u001b[39mif\u001b[39;00m exception_type \u001b[39mis\u001b[39;00m \u001b[39mnot\u001b[39;00m \u001b[39mNone\u001b[39;00m \u001b[39mand\u001b[39;00m \u001b[39mself\u001b[39m\u001b[39m.\u001b[39mprimary() \u001b[39mis\u001b[39;00m \u001b[39mself\u001b[39m:\n\u001b[0;32m---> 63\u001b[0m         \u001b[39mself\u001b[39;49m\u001b[39m.\u001b[39;49mhandle_exception(exception_type, exception_value)\n\u001b[1;32m     64\u001b[0m \u001b[39mfinally\u001b[39;00m:\n\u001b[1;32m     65\u001b[0m     \u001b[39m# `_kwargs` may hold cyclic references, that we really want to avoid\u001b[39;00m\n\u001b[1;32m     66\u001b[0m     \u001b[39m# as this can lead to large buffers remaining in memory for longer than absolutely necessary\u001b[39;00m\n\u001b[1;32m     67\u001b[0m     \u001b[39m# Let's just clear this, now.\u001b[39;00m\n\u001b[1;32m     68\u001b[0m     \u001b[39mself\u001b[39m\u001b[39m.\u001b[39m_kwargs\u001b[39m.\u001b[39mclear()\n",
      "File \u001b[0;32m~/.local/lib/python3.10/site-packages/awkward/_errors.py:78\u001b[0m, in \u001b[0;36mErrorContext.handle_exception\u001b[0;34m(self, cls, exception)\u001b[0m\n\u001b[1;32m     76\u001b[0m     \u001b[39mself\u001b[39m\u001b[39m.\u001b[39mdecorate_exception(\u001b[39mcls\u001b[39m, exception)\n\u001b[1;32m     77\u001b[0m \u001b[39melse\u001b[39;00m:\n\u001b[0;32m---> 78\u001b[0m     \u001b[39mraise\u001b[39;00m \u001b[39mself\u001b[39m\u001b[39m.\u001b[39mdecorate_exception(\u001b[39mcls\u001b[39m, exception)\n",
      "\u001b[0;31mValueError\u001b[0m: cannot convert <RecordArray is_tuple='false' len='10'>\n    <content index='0' field='myChargeArray[3][3][256][512]'>\n        <RegularArray size='3' len='10'>\n            <content><RegularArray size='3' len='30'>\n                <content><RegularArray size='256' len='90'>\n                    <content><RegularArray size='512' len='23040'>\n                        <content><NumpyArray dtype='float32' len='11796480'>[0. 0. 0. ... 0. 0. 0.]</NumpyArray></content>\n                    </RegularArray></content>\n                </RegularArray></content>\n            </RegularArray></content>\n        </RegularArray>\n    </content>\n</RecordArray> into np.ndarray\n\nThis error occurred while calling\n\n    ak.to_numpy(\n        <Array [{...}, {...}, ..., {...}, {...}] type='10 * {\"myChargeArray...'>\n    )"
     ]
    }
   ],
   "source": [
    "import uproot\n",
    "\n",
    "file = uproot.open(path+filename1)\n",
    "\n",
    "# Define the branch name\n",
    "branch_name = \"TPCData/Event/myChargeArray[3][3][256][512]\"\n",
    "\n",
    "# Iterate through the specified branch\n",
    "for array in uproot.iterate(file[branch_name], step_size=batchSize, library=\"ak\"):\n",
    "    features = ak.to_numpy(array)\n"
   ]
  },
  {
   "cell_type": "code",
   "execution_count": null,
   "metadata": {},
   "outputs": [
    {
     "name": "stdout",
     "output_type": "stream",
     "text": [
      "1\n",
      "256\n",
      "512\n",
      "3\n"
     ]
    }
   ],
   "source": [
    "print(len(element))             # entries\n",
    "print(len(element[0]))          # strips\n",
    "print(len(element[0][0]))       # timebins\n",
    "print(len(element[0][0][0]))    # channels"
   ]
  },
  {
   "cell_type": "code",
   "execution_count": null,
   "metadata": {},
   "outputs": [
    {
     "data": {
      "image/png": "[encoded data removed]",
      "text/plain": [
       "<Figure size 640x480 with 1 Axes>"
      ]
     },
     "metadata": {},
     "output_type": "display_data"
    }
   ],
   "source": [
    "event = 2\n",
    "\n",
    "fig, axis = plt.subplots()\n",
    "im = axis.imshow(element[0], origin='lower', aspect='auto')"
   ]
  },
  {
   "cell_type": "code",
   "execution_count": null,
   "metadata": {},
   "outputs": [
    {
     "data": {
      "image/png": "[encoded data removed]",
      "text/plain": [
       "<Figure size 2800x1000 with 6 Axes>"
      ]
     },
     "metadata": {},
     "output_type": "display_data"
    }
   ],
   "source": [
    "projNames = (\"U\", \"V\", \"W\")\n",
    "fig2, axes2 = plt.subplots(1,3, figsize=(28,10))\n",
    "for strip in range(0,3):\n",
    "    axis2 = axes2[strip] \n",
    "    data = element[1][:,:,strip]\n",
    "    im2 = axis2.imshow(data, origin='lower', aspect='auto')    \n",
    "    axis2.set_xlabel(\"time bin\")\n",
    "    axis2.set_ylabel(projNames[strip]+\" strip\")\n",
    "    divider = make_axes_locatable(axis2)\n",
    "    cax = divider.append_axes(\"right\", size=\"5%\", pad=0.4)\n",
    "    fig2.colorbar(im2, cax=cax)\n",
    "    plt.subplots_adjust(bottom=0.15, left=0.05, right=0.95, wspace=0.3)"
   ]
  },
  {
   "attachments": {},
   "cell_type": "markdown",
   "metadata": {},
   "source": []
  },
  {
   "cell_type": "code",
   "execution_count": 30,
   "metadata": {},
   "outputs": [
    {
     "name": "stderr",
     "output_type": "stream",
     "text": [
      "2023-07-01 17:56:59.689283: I tensorflow/core/common_runtime/executor.cc:1197] [/device:CPU:0] (DEBUG INFO) Executor start aborting (this does not indicate an error and you can ignore this message): INVALID_ARGUMENT: You must feed a value for placeholder tensor 'Placeholder/_0' with dtype int32\n",
      "\t [[{{node Placeholder/_0}}]]\n",
      "2023-07-01 17:56:59.717916: W tensorflow/core/framework/op_kernel.cc:1818] UNKNOWN: AttributeError: module 'TPCParser' has no attribute 'generator'\n",
      "Traceback (most recent call last):\n",
      "\n",
      "  File \"/home/kris/.local/lib/python3.10/site-packages/tensorflow/python/ops/script_ops.py\", line 267, in __call__\n",
      "    ret = func(*args)\n",
      "\n",
      "  File \"/home/kris/.local/lib/python3.10/site-packages/tensorflow/python/autograph/impl/api.py\", line 642, in wrapper\n",
      "    return func(*args, **kwargs)\n",
      "\n",
      "  File \"/home/kris/.local/lib/python3.10/site-packages/tensorflow/python/data/ops/from_generator_op.py\", line 198, in generator_py_func\n",
      "    values = next(generator_state.get_iterator(iterator_id))\n",
      "\n",
      "  File \"/tmp/ipykernel_7183/641164283.py\", line 13, in generator\n",
      "    for batch in io.generator(files=train_files, batchSize=2):\n",
      "\n",
      "AttributeError: module 'TPCParser' has no attribute 'generator'\n",
      "\n",
      "\n",
      "2023-07-01 17:56:59.717955: I tensorflow/core/common_runtime/executor.cc:1197] [/job:localhost/replica:0/task:0/device:CPU:0] (DEBUG INFO) Executor start aborting (this does not indicate an error and you can ignore this message): UNKNOWN: AttributeError: module 'TPCParser' has no attribute 'generator'\n",
      "Traceback (most recent call last):\n",
      "\n",
      "  File \"/home/kris/.local/lib/python3.10/site-packages/tensorflow/python/ops/script_ops.py\", line 267, in __call__\n",
      "    ret = func(*args)\n",
      "\n",
      "  File \"/home/kris/.local/lib/python3.10/site-packages/tensorflow/python/autograph/impl/api.py\", line 642, in wrapper\n",
      "    return func(*args, **kwargs)\n",
      "\n",
      "  File \"/home/kris/.local/lib/python3.10/site-packages/tensorflow/python/data/ops/from_generator_op.py\", line 198, in generator_py_func\n",
      "    values = next(generator_state.get_iterator(iterator_id))\n",
      "\n",
      "  File \"/tmp/ipykernel_7183/641164283.py\", line 13, in generator\n",
      "    for batch in io.generator(files=train_files, batchSize=2):\n",
      "\n",
      "AttributeError: module 'TPCParser' has no attribute 'generator'\n",
      "\n",
      "\n",
      "\t [[{{node PyFunc}}]]\n"
     ]
    },
    {
     "ename": "UnknownError",
     "evalue": "{{function_node __wrapped__IteratorGetNext_output_types_1_device_/job:localhost/replica:0/task:0/device:CPU:0}} AttributeError: module 'TPCParser' has no attribute 'generator'\nTraceback (most recent call last):\n\n  File \"/home/kris/.local/lib/python3.10/site-packages/tensorflow/python/ops/script_ops.py\", line 267, in __call__\n    ret = func(*args)\n\n  File \"/home/kris/.local/lib/python3.10/site-packages/tensorflow/python/autograph/impl/api.py\", line 642, in wrapper\n    return func(*args, **kwargs)\n\n  File \"/home/kris/.local/lib/python3.10/site-packages/tensorflow/python/data/ops/from_generator_op.py\", line 198, in generator_py_func\n    values = next(generator_state.get_iterator(iterator_id))\n\n  File \"/tmp/ipykernel_7183/641164283.py\", line 13, in generator\n    for batch in io.generator(files=train_files, batchSize=2):\n\nAttributeError: module 'TPCParser' has no attribute 'generator'\n\n\n\t [[{{node PyFunc}}]] [Op:IteratorGetNext]",
     "output_type": "error",
     "traceback": [
      "\u001b[0;31m---------------------------------------------------------------------------\u001b[0m",
      "\u001b[0;31mUnknownError\u001b[0m                              Traceback (most recent call last)",
      "Cell \u001b[0;32mIn[30], line 20\u001b[0m\n\u001b[1;32m     17\u001b[0m rain_dataset \u001b[39m=\u001b[39m tf\u001b[39m.\u001b[39mdata\u001b[39m.\u001b[39mDataset\u001b[39m.\u001b[39mfrom_generator(generator, output_signature\u001b[39m=\u001b[39mtf\u001b[39m.\u001b[39mTensorSpec(shape\u001b[39m=\u001b[39m(\u001b[39m10\u001b[39m, ), dtype\u001b[39m=\u001b[39mtf\u001b[39m.\u001b[39mfloat32))\n\u001b[1;32m     19\u001b[0m \u001b[39m# Iterate over the dataset and plot the images\u001b[39;00m\n\u001b[0;32m---> 20\u001b[0m \u001b[39mfor\u001b[39;00m batch \u001b[39min\u001b[39;00m rain_dataset:\n\u001b[1;32m     21\u001b[0m     image_tensor \u001b[39m=\u001b[39m batch[\u001b[39m0\u001b[39m]  \u001b[39m# Assuming the image tensor is the first element of the batch\u001b[39;00m\n",
      "File \u001b[0;32m~/.local/lib/python3.10/site-packages/tensorflow/python/data/ops/iterator_ops.py:797\u001b[0m, in \u001b[0;36mOwnedIterator.__next__\u001b[0;34m(self)\u001b[0m\n\u001b[1;32m    795\u001b[0m \u001b[39mdef\u001b[39;00m \u001b[39m__next__\u001b[39m(\u001b[39mself\u001b[39m):\n\u001b[1;32m    796\u001b[0m   \u001b[39mtry\u001b[39;00m:\n\u001b[0;32m--> 797\u001b[0m     \u001b[39mreturn\u001b[39;00m \u001b[39mself\u001b[39;49m\u001b[39m.\u001b[39;49m_next_internal()\n\u001b[1;32m    798\u001b[0m   \u001b[39mexcept\u001b[39;00m errors\u001b[39m.\u001b[39mOutOfRangeError:\n\u001b[1;32m    799\u001b[0m     \u001b[39mraise\u001b[39;00m \u001b[39mStopIteration\u001b[39;00m\n",
      "File \u001b[0;32m~/.local/lib/python3.10/site-packages/tensorflow/python/data/ops/iterator_ops.py:780\u001b[0m, in \u001b[0;36mOwnedIterator._next_internal\u001b[0;34m(self)\u001b[0m\n\u001b[1;32m    777\u001b[0m \u001b[39m# TODO(b/77291417): This runs in sync mode as iterators use an error status\u001b[39;00m\n\u001b[1;32m    778\u001b[0m \u001b[39m# to communicate that there is no more data to iterate over.\u001b[39;00m\n\u001b[1;32m    779\u001b[0m \u001b[39mwith\u001b[39;00m context\u001b[39m.\u001b[39mexecution_mode(context\u001b[39m.\u001b[39mSYNC):\n\u001b[0;32m--> 780\u001b[0m   ret \u001b[39m=\u001b[39m gen_dataset_ops\u001b[39m.\u001b[39;49miterator_get_next(\n\u001b[1;32m    781\u001b[0m       \u001b[39mself\u001b[39;49m\u001b[39m.\u001b[39;49m_iterator_resource,\n\u001b[1;32m    782\u001b[0m       output_types\u001b[39m=\u001b[39;49m\u001b[39mself\u001b[39;49m\u001b[39m.\u001b[39;49m_flat_output_types,\n\u001b[1;32m    783\u001b[0m       output_shapes\u001b[39m=\u001b[39;49m\u001b[39mself\u001b[39;49m\u001b[39m.\u001b[39;49m_flat_output_shapes)\n\u001b[1;32m    785\u001b[0m   \u001b[39mtry\u001b[39;00m:\n\u001b[1;32m    786\u001b[0m     \u001b[39m# Fast path for the case `self._structure` is not a nested structure.\u001b[39;00m\n\u001b[1;32m    787\u001b[0m     \u001b[39mreturn\u001b[39;00m \u001b[39mself\u001b[39m\u001b[39m.\u001b[39m_element_spec\u001b[39m.\u001b[39m_from_compatible_tensor_list(ret)  \u001b[39m# pylint: disable=protected-access\u001b[39;00m\n",
      "File \u001b[0;32m~/.local/lib/python3.10/site-packages/tensorflow/python/ops/gen_dataset_ops.py:3016\u001b[0m, in \u001b[0;36miterator_get_next\u001b[0;34m(iterator, output_types, output_shapes, name)\u001b[0m\n\u001b[1;32m   3014\u001b[0m   \u001b[39mreturn\u001b[39;00m _result\n\u001b[1;32m   3015\u001b[0m \u001b[39mexcept\u001b[39;00m _core\u001b[39m.\u001b[39m_NotOkStatusException \u001b[39mas\u001b[39;00m e:\n\u001b[0;32m-> 3016\u001b[0m   _ops\u001b[39m.\u001b[39;49mraise_from_not_ok_status(e, name)\n\u001b[1;32m   3017\u001b[0m \u001b[39mexcept\u001b[39;00m _core\u001b[39m.\u001b[39m_FallbackException:\n\u001b[1;32m   3018\u001b[0m   \u001b[39mpass\u001b[39;00m\n",
      "File \u001b[0;32m~/.local/lib/python3.10/site-packages/tensorflow/python/framework/ops.py:7262\u001b[0m, in \u001b[0;36mraise_from_not_ok_status\u001b[0;34m(e, name)\u001b[0m\n\u001b[1;32m   7260\u001b[0m \u001b[39mdef\u001b[39;00m \u001b[39mraise_from_not_ok_status\u001b[39m(e, name):\n\u001b[1;32m   7261\u001b[0m   e\u001b[39m.\u001b[39mmessage \u001b[39m+\u001b[39m\u001b[39m=\u001b[39m (\u001b[39m\"\u001b[39m\u001b[39m name: \u001b[39m\u001b[39m\"\u001b[39m \u001b[39m+\u001b[39m name \u001b[39mif\u001b[39;00m name \u001b[39mis\u001b[39;00m \u001b[39mnot\u001b[39;00m \u001b[39mNone\u001b[39;00m \u001b[39melse\u001b[39;00m \u001b[39m\"\u001b[39m\u001b[39m\"\u001b[39m)\n\u001b[0;32m-> 7262\u001b[0m   \u001b[39mraise\u001b[39;00m core\u001b[39m.\u001b[39m_status_to_exception(e) \u001b[39mfrom\u001b[39;00m \u001b[39mNone\u001b[39;00m\n",
      "\u001b[0;31mUnknownError\u001b[0m: {{function_node __wrapped__IteratorGetNext_output_types_1_device_/job:localhost/replica:0/task:0/device:CPU:0}} AttributeError: module 'TPCParser' has no attribute 'generator'\nTraceback (most recent call last):\n\n  File \"/home/kris/.local/lib/python3.10/site-packages/tensorflow/python/ops/script_ops.py\", line 267, in __call__\n    ret = func(*args)\n\n  File \"/home/kris/.local/lib/python3.10/site-packages/tensorflow/python/autograph/impl/api.py\", line 642, in wrapper\n    return func(*args, **kwargs)\n\n  File \"/home/kris/.local/lib/python3.10/site-packages/tensorflow/python/data/ops/from_generator_op.py\", line 198, in generator_py_func\n    values = next(generator_state.get_iterator(iterator_id))\n\n  File \"/tmp/ipykernel_7183/641164283.py\", line 13, in generator\n    for batch in io.generator(files=train_files, batchSize=2):\n\nAttributeError: module 'TPCParser' has no attribute 'generator'\n\n\n\t [[{{node PyFunc}}]] [Op:IteratorGetNext]"
     ]
    }
   ],
   "source": [
    "path = '/home/kris/Documents/coding/WAWTPC/krisTPCReco/TPCReco-kris/build/resources/'\n",
    "filename1 = 'THREE_ALPHA_BE+_1k_131MeV_250mbar_.root'\n",
    "filename2 = 'C12_ALPHA_1k_131MeV_250mbar_.root'\n",
    "\n",
    "#rootFile = uproot.open(path+filename1 + ':TPCData')\n",
    "train_files = [path+filename1 + ':TPCData']\n",
    "\n",
    "import TPCParser as io\n",
    "importlib.reload(io)\n",
    "\n",
    "# Define the generator function\n",
    "def generator():\n",
    "    for batch in io.generator(files=train_files, batchSize=2):\n",
    "        yield batch\n",
    "\n",
    "\n",
    "rain_dataset = tf.data.Dataset.from_generator(generator, output_signature=tf.TensorSpec(shape=(10, ), dtype=tf.float32))\n",
    "\n",
    "# Iterate over the dataset and plot the images\n",
    "for batch in rain_dataset:\n",
    "    image_tensor = batch[0]  # Assuming the image tensor is the first element of the batch"
   ]
  },
  {
   "cell_type": "code",
   "execution_count": null,
   "metadata": {},
   "outputs": [
    {
     "ename": "",
     "evalue": "",
     "output_type": "error",
     "traceback": [
      "\u001b[1;31mCannot execute code, session has been disposed. Please try restarting the Kernel."
     ]
    },
    {
     "ename": "",
     "evalue": "",
     "output_type": "error",
     "traceback": [
      "\u001b[1;31mThe Kernel crashed while executing code in the the current cell or a previous cell. Please review the code in the cell(s) to identify a possible cause of the failure. Click <a href='https://aka.ms/vscodeJupyterKernelCrash'>here</a> for more info. View Jupyter <a href='command:jupyter.viewOutput'>log</a> for further details."
     ]
    }
   ],
   "source": [
    "path = '/home/kris/Documents/coding/WAWTPC/krisTPCReco/TPCReco-kris/build/resources/'\n",
    "filename1 = 'THREE_ALPHA_BE+_1k_131MeV_250mbar_.root'\n",
    "data1 =  io.getDataML(path+filename1)\n",
    "dataset = tf.data.Dataset.from_tensor_slices(data1,0)"
   ]
  },
  {
   "cell_type": "code",
   "execution_count": null,
   "metadata": {},
   "outputs": [
    {
     "ename": "AttributeError",
     "evalue": "module 'skimage.io' has no attribute 'getDataML'",
     "output_type": "error",
     "traceback": [
      "\u001b[0;31m---------------------------------------------------------------------------\u001b[0m",
      "\u001b[0;31mAttributeError\u001b[0m                            Traceback (most recent call last)",
      "Cell \u001b[0;32mIn[91], line 3\u001b[0m\n\u001b[1;32m      1\u001b[0m path \u001b[39m=\u001b[39m \u001b[39m'\u001b[39m\u001b[39m/home/kris/Documents/coding/WAWTPC/krisTPCReco/TPCReco-kris/build/resources/\u001b[39m\u001b[39m'\u001b[39m\n\u001b[1;32m      2\u001b[0m filename2 \u001b[39m=\u001b[39m \u001b[39m'\u001b[39m\u001b[39mC12_ALPHA_1k_131MeV_250mbar_.root\u001b[39m\u001b[39m'\u001b[39m\n\u001b[0;32m----> 3\u001b[0m data2 \u001b[39m=\u001b[39m  io\u001b[39m.\u001b[39;49mgetDataML(path\u001b[39m+\u001b[39mfilename2)\n\u001b[1;32m      4\u001b[0m dataset2 \u001b[39m=\u001b[39m tf\u001b[39m.\u001b[39mdata\u001b[39m.\u001b[39mDataset\u001b[39m.\u001b[39mfrom_tensor_slices(data2,\u001b[39m1\u001b[39m)\n",
      "\u001b[0;31mAttributeError\u001b[0m: module 'skimage.io' has no attribute 'getDataML'"
     ]
    }
   ],
   "source": [
    "path = '/home/kris/Documents/coding/WAWTPC/krisTPCReco/TPCReco-kris/build/resources/'\n",
    "filename2 = 'C12_ALPHA_1k_131MeV_250mbar_.root'\n",
    "data2 =  io.getDataML(path+filename2)\n",
    "dataset2 = tf.data.Dataset.from_tensor_slices(data2,1)\n"
   ]
  },
  {
   "cell_type": "code",
   "execution_count": null,
   "metadata": {},
   "outputs": [
    {
     "name": "stdout",
     "output_type": "stream",
     "text": [
      "tf.Tensor([1 2 3], shape=(3,), dtype=int64) tf.Tensor(0, shape=(), dtype=int64)\n",
      "tf.Tensor([4 5 6], shape=(3,), dtype=int64) tf.Tensor(1, shape=(), dtype=int64)\n",
      "tf.Tensor([7 8 9], shape=(3,), dtype=int64) tf.Tensor(0, shape=(), dtype=int64)\n"
     ]
    },
    {
     "name": "stderr",
     "output_type": "stream",
     "text": [
      "2023-07-01 01:23:45.744856: I tensorflow/core/common_runtime/executor.cc:1197] [/device:CPU:0] (DEBUG INFO) Executor start aborting (this does not indicate an error and you can ignore this message): INVALID_ARGUMENT: You must feed a value for placeholder tensor 'Placeholder/_1' with dtype int64 and shape [3]\n",
      "\t [[{{node Placeholder/_1}}]]\n"
     ]
    }
   ],
   "source": [
    "import tensorflow as tf\n",
    "import numpy as np\n",
    "\n",
    "# Example arrays\n",
    "images = np.array([[1, 2, 3], [4, 5, 6], [7, 8, 9]])\n",
    "labels = np.array([0, 1, 0])\n",
    "\n",
    "# Create a dataset from arrays\n",
    "dataset = tf.data.Dataset.from_tensor_slices((images, labels))\n",
    "\n",
    "# Create an iterator for the dataset\n",
    "iterator = iter(dataset)\n",
    "\n",
    "# Iterate over the dataset\n",
    "for image, label in iterator:\n",
    "    print(image, label)"
   ]
  },
  {
   "cell_type": "code",
   "execution_count": null,
   "metadata": {},
   "outputs": [],
   "source": [
    "\n",
    "# Concatenate the two datasets\n",
    "concat_dataset = torch.utils.data.ConcatDataset([dataset, dataset2])\n",
    "\n",
    "# Calculate the sizes for the train and validation sets\n",
    "total_size = len(concat_dataset)\n",
    "train_size = int(0.7 * total_size)\n",
    "val_size = total_size - train_size\n",
    "\n",
    "# Split the dataset into train and validation sets\n",
    "train_dataset, val_dataset = random_split(concat_dataset, [train_size, val_size])\n",
    "\n",
    "\n",
    "num_classes = 2\n",
    "resnet_model = models.resnet50(pretrained=True)\n",
    "\n",
    "# Freeze the parameters of the pre-trained layers\n",
    "for param in resnet_model.parameters():\n",
    "    param.requires_grad = False\n",
    "\n",
    "# Modify the last fully connected layer to match the number of classes\n",
    "resnet_model.fc = nn.Linear(resnet_model.fc.in_features, num_classes)\n",
    "\n",
    "# Define the criterion, optimizer, and transformation\n",
    "criterion = nn.CrossEntropyLoss()\n",
    "optimizer = optim.SGD(resnet_model.fc.parameters(), lr=0.001, momentum=0.9)\n",
    "transform = transforms.Compose([\n",
    "    transforms.ToTensor(),\n",
    "])\n",
    "\n",
    "train_loader = torch.utils.data.DataLoader(train_dataset, batch_size=10, shuffle=True)\n",
    "val_loader = torch.utils.data.DataLoader(val_dataset, batch_size=10, shuffle=False)\n",
    "\n",
    "\n",
    "\n",
    "\n",
    "\n",
    "dataloaders = {'train': train_loader, 'val': val_loader}\n",
    "dataset_sizes = {'train': len(train_dataset), 'val': len(val_dataset)}\n",
    "iteratorTRAIN = iter(train_dataset)\n",
    "iteratorVAL = iter(val_dataset)\n",
    "\n",
    "\n"
   ]
  },
  {
   "cell_type": "code",
   "execution_count": null,
   "metadata": {},
   "outputs": [],
   "source": [
    "def train_model(model, criterion, optimizer, scheduler, num_epochs=25):\n",
    "    \n",
    "    # start a timer\n",
    "    since = time.time()\n",
    "\n",
    "    # track the best performing model\n",
    "    best_model_wts = copy.deepcopy(model.state_dict())\n",
    "    best_acc = 0.0\n",
    "\n",
    "    # iterate over all epochs\n",
    "    for epoch in range(num_epochs):\n",
    "        \n",
    "        # show the current epoch we are on\n",
    "        print(f'Epoch {epoch}/{num_epochs - 1}')\n",
    "        print('-' * 10)\n",
    "\n",
    "        # each epoch has a training and validation phase\n",
    "        for phase in ['train', 'val']:\n",
    "            if phase == 'train':\n",
    "                model.train()  # set model to training mode\n",
    "            else:\n",
    "                model.eval()   # set model to evaluate mode\n",
    "\n",
    "            running_loss = 0.0\n",
    "            running_corrects = 0\n",
    "\n",
    "            # iterate over data\n",
    "            for inputs, labels in iteratorTRAIN:\n",
    "                inputs = inputs.to(device)\n",
    "                labels = labels.to(device)\n",
    "\n",
    "                # zero the parameter gradients\n",
    "                optimizer.zero_grad()\n",
    "\n",
    "                # forward pass (track gradients if only in train mode)\n",
    "                with torch.set_grad_enabled(phase == 'train'):\n",
    "                    outputs = model(inputs)\n",
    "                    _, preds = torch.max(outputs, 1)\n",
    "                    loss = criterion(outputs, labels)\n",
    "\n",
    "                    # backward + optimize only if in train mode\n",
    "                    if phase == 'train':\n",
    "                        loss.backward()\n",
    "                        optimizer.step()\n",
    "\n",
    "                # track the performance statistics\n",
    "                running_loss += loss.item() * inputs.size(0)\n",
    "                running_corrects += torch.sum(preds == labels.data)\n",
    "            \n",
    "            # step the learning rate scheduler if in train mode\n",
    "            if phase == 'train':\n",
    "                scheduler.step()\n",
    "            \n",
    "            # keep track of the overall loss and accuracy over each epoch\n",
    "            epoch_loss = running_loss / dataset_sizes[phase]\n",
    "            epoch_acc = running_corrects.double() / dataset_sizes[phase]\n",
    "            print(f'{phase} loss: {epoch_loss:.4f}, acc: {epoch_acc:.4f}')\n",
    "\n",
    "            # keep a deep copy of the best performing model\n",
    "            if phase == 'val' and epoch_acc > best_acc:\n",
    "                best_acc = epoch_acc\n",
    "                best_model_wts = copy.deepcopy(model.state_dict())\n",
    "\n",
    "        print()\n",
    "\n",
    "    # track the time taken\n",
    "    time_elapsed = time.time() - since\n",
    "    print(f'training complete in {time_elapsed // 60:.0f}m {time_elapsed % 60:.0f}s')\n",
    "    print(f'best val acc: {best_acc:4f}')\n",
    "\n",
    "    # load best model weights\n",
    "    model.load_state_dict(best_model_wts)\n",
    "    return model"
   ]
  },
  {
   "cell_type": "code",
   "execution_count": null,
   "metadata": {},
   "outputs": [],
   "source": [
    "def visualize_model(model, num_images=8):\n",
    "    \n",
    "    # get the original model state\n",
    "    was_training = model.training\n",
    "    \n",
    "    # switch it to eval mode (so we don't do the backwards pass)\n",
    "    model.eval()\n",
    "    images_so_far = 0\n",
    "    fig = plt.figure()\n",
    "\n",
    "    # turn of gradient calculations\n",
    "    with torch.no_grad():\n",
    "        \n",
    "        # get a batch of data\n",
    "        for i, (inputs, labels) in enumerate(dataloaders['train']):\n",
    "            \n",
    "            # move to the gpu / cpu\n",
    "            inputs = inputs.to(device)\n",
    "            labels = labels.to(device)\n",
    "            \n",
    "            # make a prediction\n",
    "            outputs = model(inputs)\n",
    "            _, preds = torch.max(outputs, 1)\n",
    "            \n",
    "            # plot a number of images and the model predictions\n",
    "            for j in range(inputs.size()[0]):\n",
    "                images_so_far += 1\n",
    "                ax = plt.subplot(num_images//2, 2, images_so_far)\n",
    "                ax.axis('off')\n",
    "                ax.set_title(f'predicted: {class_names[preds[j]]}, actual: {class_names[labels[j]]}')\n",
    "                imshow(inputs.cpu().data[j])\n",
    "\n",
    "                # if we've plotted the desired number of images, \n",
    "                # switch the model back to it's original mode\n",
    "                if images_so_far == num_images:\n",
    "                    model.train(mode=was_training)\n",
    "                    return\n",
    "                \n",
    "        # switch the model back to it's original mode\n",
    "        model.train(mode=was_training)"
   ]
  },
  {
   "cell_type": "code",
   "execution_count": null,
   "metadata": {},
   "outputs": [],
   "source": [
    "model_ft = models.resnet18(pretrained=True) # <------------------------------------------------------------\n",
    "num_ftrs = model_ft.fc.in_features\n",
    "\n",
    "device = torch.device(\"cuda:0\" if torch.cuda.is_available() else \"cpu\")\n",
    "\n",
    "# initialise a fully connected layer with appropriate dimensions (num_ftrs x num_classes)\n",
    "model_ft.fc = nn.Linear(num_ftrs, 4) # <------------------------------------------------------------\n",
    "model_ft = model_ft.to(device)\n",
    "\n",
    "# set the loss function\n",
    "criterion = nn.CrossEntropyLoss()\n",
    "\n",
    "# set the optimiser\n",
    "optimizer_ft = optim.SGD(model_ft.parameters(), lr=0.001, momentum=0.90)\n",
    "\n",
    "# decay LR by a factor of 0.1 every 7 epochs\n",
    "exp_lr_scheduler = lr_scheduler.StepLR(optimizer_ft, step_size=5, gamma=0.1)"
   ]
  },
  {
   "cell_type": "code",
   "execution_count": null,
   "metadata": {},
   "outputs": [
    {
     "name": "stdout",
     "output_type": "stream",
     "text": [
      "Epoch 0/14\n",
      "----------\n"
     ]
    },
    {
     "ename": "TypeError",
     "evalue": "'_TensorSliceDataset' object is not subscriptable",
     "output_type": "error",
     "traceback": [
      "\u001b[0;31m---------------------------------------------------------------------------\u001b[0m",
      "\u001b[0;31mTypeError\u001b[0m                                 Traceback (most recent call last)",
      "Cell \u001b[0;32mIn[90], line 1\u001b[0m\n\u001b[0;32m----> 1\u001b[0m model_ft \u001b[39m=\u001b[39m train_model(model_ft, criterion, optimizer_ft, exp_lr_scheduler,num_epochs\u001b[39m=\u001b[39;49m\u001b[39m15\u001b[39;49m);\n",
      "Cell \u001b[0;32mIn[87], line 28\u001b[0m, in \u001b[0;36mtrain_model\u001b[0;34m(model, criterion, optimizer, scheduler, num_epochs)\u001b[0m\n\u001b[1;32m     25\u001b[0m running_corrects \u001b[39m=\u001b[39m \u001b[39m0\u001b[39m\n\u001b[1;32m     27\u001b[0m \u001b[39m# iterate over data\u001b[39;00m\n\u001b[0;32m---> 28\u001b[0m \u001b[39mfor\u001b[39;00m inputs, labels \u001b[39min\u001b[39;00m iteratorTRAIN:\n\u001b[1;32m     29\u001b[0m     inputs \u001b[39m=\u001b[39m inputs\u001b[39m.\u001b[39mto(device)\n\u001b[1;32m     30\u001b[0m     labels \u001b[39m=\u001b[39m labels\u001b[39m.\u001b[39mto(device)\n",
      "File \u001b[0;32m~/.local/lib/python3.10/site-packages/torch/utils/data/dataset.py:298\u001b[0m, in \u001b[0;36mSubset.__getitem__\u001b[0;34m(self, idx)\u001b[0m\n\u001b[1;32m    296\u001b[0m \u001b[39mif\u001b[39;00m \u001b[39misinstance\u001b[39m(idx, \u001b[39mlist\u001b[39m):\n\u001b[1;32m    297\u001b[0m     \u001b[39mreturn\u001b[39;00m \u001b[39mself\u001b[39m\u001b[39m.\u001b[39mdataset[[\u001b[39mself\u001b[39m\u001b[39m.\u001b[39mindices[i] \u001b[39mfor\u001b[39;00m i \u001b[39min\u001b[39;00m idx]]\n\u001b[0;32m--> 298\u001b[0m \u001b[39mreturn\u001b[39;00m \u001b[39mself\u001b[39;49m\u001b[39m.\u001b[39;49mdataset[\u001b[39mself\u001b[39;49m\u001b[39m.\u001b[39;49mindices[idx]]\n",
      "File \u001b[0;32m~/.local/lib/python3.10/site-packages/torch/utils/data/dataset.py:243\u001b[0m, in \u001b[0;36mConcatDataset.__getitem__\u001b[0;34m(self, idx)\u001b[0m\n\u001b[1;32m    241\u001b[0m \u001b[39melse\u001b[39;00m:\n\u001b[1;32m    242\u001b[0m     sample_idx \u001b[39m=\u001b[39m idx \u001b[39m-\u001b[39m \u001b[39mself\u001b[39m\u001b[39m.\u001b[39mcumulative_sizes[dataset_idx \u001b[39m-\u001b[39m \u001b[39m1\u001b[39m]\n\u001b[0;32m--> 243\u001b[0m \u001b[39mreturn\u001b[39;00m \u001b[39mself\u001b[39;49m\u001b[39m.\u001b[39;49mdatasets[dataset_idx][sample_idx]\n",
      "\u001b[0;31mTypeError\u001b[0m: '_TensorSliceDataset' object is not subscriptable"
     ]
    }
   ],
   "source": [
    "model_ft = train_model(model_ft, criterion, optimizer_ft, exp_lr_scheduler,num_epochs=15);\n"
   ]
  },
  {
   "cell_type": "code",
   "execution_count": null,
   "metadata": {},
   "outputs": [
    {
     "name": "stderr",
     "output_type": "stream",
     "text": [
      "2023-07-01 00:51:11.204901: I tensorflow/core/common_runtime/executor.cc:1197] [/device:CPU:0] (DEBUG INFO) Executor start aborting (this does not indicate an error and you can ignore this message): INVALID_ARGUMENT: You must feed a value for placeholder tensor 'Placeholder/_0' with dtype int32\n",
      "\t [[{{node Placeholder/_0}}]]\n",
      "2023-07-01 00:51:11.300015: W tensorflow/core/framework/op_kernel.cc:1818] UNKNOWN: CannotBeAwkward: SimHit\n",
      "Traceback (most recent call last):\n",
      "\n",
      "  File \"/home/kris/.local/lib/python3.10/site-packages/tensorflow/python/ops/script_ops.py\", line 267, in __call__\n",
      "    ret = func(*args)\n",
      "\n",
      "  File \"/home/kris/.local/lib/python3.10/site-packages/tensorflow/python/autograph/impl/api.py\", line 642, in wrapper\n",
      "    return func(*args, **kwargs)\n",
      "\n",
      "  File \"/home/kris/.local/lib/python3.10/site-packages/tensorflow/python/data/ops/from_generator_op.py\", line 198, in generator_py_func\n",
      "    values = next(generator_state.get_iterator(iterator_id))\n",
      "\n",
      "  File \"/home/kris/Documents/coding/WAWTPC/ML/MachineLearningTPC/MachineLearning/WAWTPC/classification/TPCParser.py\", line 178, in generator\n",
      "    for array in uproot.iterate(files, step_size=batchSize,\n",
      "\n",
      "  File \"/home/kris/.local/lib/python3.10/site-packages/uproot/behaviors/TBranch.py\", line 193, in iterate\n",
      "    for item in hasbranches.iterate(\n",
      "\n",
      "  File \"/home/kris/.local/lib/python3.10/site-packages/uproot/behaviors/TBranch.py\", line 1080, in iterate\n",
      "    _ranges_or_baskets_to_arrays(\n",
      "\n",
      "  File \"/home/kris/.local/lib/python3.10/site-packages/uproot/behaviors/TBranch.py\", line 3041, in _ranges_or_baskets_to_arrays\n",
      "    arrays[cache_key] = interpretation.final_array(\n",
      "\n",
      "  File \"/home/kris/.local/lib/python3.10/site-packages/uproot/interpretation/objects.py\", line 423, in final_array\n",
      "    output = library.finalize(\n",
      "\n",
      "  File \"/home/kris/.local/lib/python3.10/site-packages/uproot/interpretation/library.py\", line 572, in finalize\n",
      "    interpretation.awkward_form(interpretation.branch.file).to_json()\n",
      "\n",
      "  File \"/home/kris/.local/lib/python3.10/site-packages/uproot/interpretation/objects.py\", line 113, in awkward_form\n",
      "    return self._model.awkward_form(self._branch.file, context)\n",
      "\n",
      "  File \"/home/kris/.local/lib/python3.10/site-packages/uproot/containers.py\", line 691, in awkward_form\n",
      "    values_form = uproot._util.awkward_form(self._values, file, context)\n",
      "\n",
      "  File \"/home/kris/.local/lib/python3.10/site-packages/uproot/_util.py\", line 587, in awkward_form\n",
      "    return model.awkward_form(file, context)\n",
      "\n",
      "  File \"/home/kris/.local/lib/python3.10/site-packages/uproot/containers.py\", line 1063, in awkward_form\n",
      "    uproot._util.awkward_form(self._values, file, context),\n",
      "\n",
      "  File \"/home/kris/.local/lib/python3.10/site-packages/uproot/_util.py\", line 587, in awkward_form\n",
      "    return model.awkward_form(file, context)\n",
      "\n",
      "  File \"/home/kris/.local/lib/python3.10/site-packages/uproot/model.py\", line 686, in awkward_form\n",
      "    raise uproot.interpretation.objects.CannotBeAwkward(\n",
      "\n",
      "uproot.interpretation.objects.CannotBeAwkward: SimHit\n",
      "\n",
      "\n",
      "2023-07-01 00:51:11.300075: I tensorflow/core/common_runtime/executor.cc:1197] [/job:localhost/replica:0/task:0/device:CPU:0] (DEBUG INFO) Executor start aborting (this does not indicate an error and you can ignore this message): UNKNOWN: CannotBeAwkward: SimHit\n",
      "Traceback (most recent call last):\n",
      "\n",
      "  File \"/home/kris/.local/lib/python3.10/site-packages/tensorflow/python/ops/script_ops.py\", line 267, in __call__\n",
      "    ret = func(*args)\n",
      "\n",
      "  File \"/home/kris/.local/lib/python3.10/site-packages/tensorflow/python/autograph/impl/api.py\", line 642, in wrapper\n",
      "    return func(*args, **kwargs)\n",
      "\n",
      "  File \"/home/kris/.local/lib/python3.10/site-packages/tensorflow/python/data/ops/from_generator_op.py\", line 198, in generator_py_func\n",
      "    values = next(generator_state.get_iterator(iterator_id))\n",
      "\n",
      "  File \"/home/kris/Documents/coding/WAWTPC/ML/MachineLearningTPC/MachineLearning/WAWTPC/classification/TPCParser.py\", line 178, in generator\n",
      "    for array in uproot.iterate(files, step_size=batchSize,\n",
      "\n",
      "  File \"/home/kris/.local/lib/python3.10/site-packages/uproot/behaviors/TBranch.py\", line 193, in iterate\n",
      "    for item in hasbranches.iterate(\n",
      "\n",
      "  File \"/home/kris/.local/lib/python3.10/site-packages/uproot/behaviors/TBranch.py\", line 1080, in iterate\n",
      "    _ranges_or_baskets_to_arrays(\n",
      "\n",
      "  File \"/home/kris/.local/lib/python3.10/site-packages/uproot/behaviors/TBranch.py\", line 3041, in _ranges_or_baskets_to_arrays\n",
      "    arrays[cache_key] = interpretation.final_array(\n",
      "\n",
      "  File \"/home/kris/.local/lib/python3.10/site-packages/uproot/interpretation/objects.py\", line 423, in final_array\n",
      "    output = library.finalize(\n",
      "\n",
      "  File \"/home/kris/.local/lib/python3.10/site-packages/uproot/interpretation/library.py\", line 572, in finalize\n",
      "    interpretation.awkward_form(interpretation.branch.file).to_json()\n",
      "\n",
      "  File \"/home/kris/.local/lib/python3.10/site-packages/uproot/interpretation/objects.py\", line 113, in awkward_form\n",
      "    return self._model.awkward_form(self._branch.file, context)\n",
      "\n",
      "  File \"/home/kris/.local/lib/python3.10/site-packages/uproot/containers.py\", line 691, in awkward_form\n",
      "    values_form = uproot._util.awkward_form(self._values, file, context)\n",
      "\n",
      "  File \"/home/kris/.local/lib/python3.10/site-packages/uproot/_util.py\", line 587, in awkward_form\n",
      "    return model.awkward_form(file, context)\n",
      "\n",
      "  File \"/home/kris/.local/lib/python3.10/site-packages/uproot/containers.py\", line 1063, in awkward_form\n",
      "    uproot._util.awkward_form(self._values, file, context),\n",
      "\n",
      "  File \"/home/kris/.local/lib/python3.10/site-packages/uproot/_util.py\", line 587, in awkward_form\n",
      "    return model.awkward_form(file, context)\n",
      "\n",
      "  File \"/home/kris/.local/lib/python3.10/site-packages/uproot/model.py\", line 686, in awkward_form\n",
      "    raise uproot.interpretation.objects.CannotBeAwkward(\n",
      "\n",
      "uproot.interpretation.objects.CannotBeAwkward: SimHit\n",
      "\n",
      "\n",
      "\t [[{{node PyFunc}}]]\n"
     ]
    },
    {
     "ename": "UnknownError",
     "evalue": "{{function_node __wrapped__IteratorGetNext_output_types_1_device_/job:localhost/replica:0/task:0/device:CPU:0}} CannotBeAwkward: SimHit\nTraceback (most recent call last):\n\n  File \"/home/kris/.local/lib/python3.10/site-packages/tensorflow/python/ops/script_ops.py\", line 267, in __call__\n    ret = func(*args)\n\n  File \"/home/kris/.local/lib/python3.10/site-packages/tensorflow/python/autograph/impl/api.py\", line 642, in wrapper\n    return func(*args, **kwargs)\n\n  File \"/home/kris/.local/lib/python3.10/site-packages/tensorflow/python/data/ops/from_generator_op.py\", line 198, in generator_py_func\n    values = next(generator_state.get_iterator(iterator_id))\n\n  File \"/home/kris/Documents/coding/WAWTPC/ML/MachineLearningTPC/MachineLearning/WAWTPC/classification/TPCParser.py\", line 178, in generator\n    for array in uproot.iterate(files, step_size=batchSize,\n\n  File \"/home/kris/.local/lib/python3.10/site-packages/uproot/behaviors/TBranch.py\", line 193, in iterate\n    for item in hasbranches.iterate(\n\n  File \"/home/kris/.local/lib/python3.10/site-packages/uproot/behaviors/TBranch.py\", line 1080, in iterate\n    _ranges_or_baskets_to_arrays(\n\n  File \"/home/kris/.local/lib/python3.10/site-packages/uproot/behaviors/TBranch.py\", line 3041, in _ranges_or_baskets_to_arrays\n    arrays[cache_key] = interpretation.final_array(\n\n  File \"/home/kris/.local/lib/python3.10/site-packages/uproot/interpretation/objects.py\", line 423, in final_array\n    output = library.finalize(\n\n  File \"/home/kris/.local/lib/python3.10/site-packages/uproot/interpretation/library.py\", line 572, in finalize\n    interpretation.awkward_form(interpretation.branch.file).to_json()\n\n  File \"/home/kris/.local/lib/python3.10/site-packages/uproot/interpretation/objects.py\", line 113, in awkward_form\n    return self._model.awkward_form(self._branch.file, context)\n\n  File \"/home/kris/.local/lib/python3.10/site-packages/uproot/containers.py\", line 691, in awkward_form\n    values_form = uproot._util.awkward_form(self._values, file, context)\n\n  File \"/home/kris/.local/lib/python3.10/site-packages/uproot/_util.py\", line 587, in awkward_form\n    return model.awkward_form(file, context)\n\n  File \"/home/kris/.local/lib/python3.10/site-packages/uproot/containers.py\", line 1063, in awkward_form\n    uproot._util.awkward_form(self._values, file, context),\n\n  File \"/home/kris/.local/lib/python3.10/site-packages/uproot/_util.py\", line 587, in awkward_form\n    return model.awkward_form(file, context)\n\n  File \"/home/kris/.local/lib/python3.10/site-packages/uproot/model.py\", line 686, in awkward_form\n    raise uproot.interpretation.objects.CannotBeAwkward(\n\nuproot.interpretation.objects.CannotBeAwkward: SimHit\n\n\n\t [[{{node PyFunc}}]] [Op:IteratorGetNext]",
     "output_type": "error",
     "traceback": [
      "\u001b[0;31m---------------------------------------------------------------------------\u001b[0m",
      "\u001b[0;31mUnknownError\u001b[0m                              Traceback (most recent call last)",
      "Cell \u001b[0;32mIn[22], line 22\u001b[0m\n\u001b[1;32m     14\u001b[0m train_dataset \u001b[39m=\u001b[39m tf\u001b[39m.\u001b[39mdata\u001b[39m.\u001b[39mDataset\u001b[39m.\u001b[39mfrom_generator(\n\u001b[1;32m     15\u001b[0m      datasetGenerator,\n\u001b[1;32m     16\u001b[0m      output_signature\u001b[39m=\u001b[39m(\n\u001b[1;32m     17\u001b[0m          tf\u001b[39m.\u001b[39mTensorSpec(shape\u001b[39m=\u001b[39m(\u001b[39m100\u001b[39m,) \u001b[39m+\u001b[39m (projections\u001b[39m.\u001b[39mshape), dtype\u001b[39m=\u001b[39mtf\u001b[39m.\u001b[39mfloat32),\n\u001b[1;32m     18\u001b[0m     ))\n\u001b[1;32m     19\u001b[0m \u001b[39m#dataBeP = io.getDataML(path+filename1)\u001b[39;00m\n\u001b[1;32m     20\u001b[0m \u001b[39m#dataC12 = io.getDataML(path+filename2)\u001b[39;00m\n\u001b[0;32m---> 22\u001b[0m \u001b[39mfor\u001b[39;00m aBatch \u001b[39min\u001b[39;00m train_dataset\u001b[39m.\u001b[39mtake(\u001b[39m1\u001b[39m):\n\u001b[1;32m     24\u001b[0m     \u001b[39mpass\u001b[39;00m\n",
      "File \u001b[0;32m~/.local/lib/python3.10/site-packages/tensorflow/python/data/ops/iterator_ops.py:797\u001b[0m, in \u001b[0;36mOwnedIterator.__next__\u001b[0;34m(self)\u001b[0m\n\u001b[1;32m    795\u001b[0m \u001b[39mdef\u001b[39;00m \u001b[39m__next__\u001b[39m(\u001b[39mself\u001b[39m):\n\u001b[1;32m    796\u001b[0m   \u001b[39mtry\u001b[39;00m:\n\u001b[0;32m--> 797\u001b[0m     \u001b[39mreturn\u001b[39;00m \u001b[39mself\u001b[39;49m\u001b[39m.\u001b[39;49m_next_internal()\n\u001b[1;32m    798\u001b[0m   \u001b[39mexcept\u001b[39;00m errors\u001b[39m.\u001b[39mOutOfRangeError:\n\u001b[1;32m    799\u001b[0m     \u001b[39mraise\u001b[39;00m \u001b[39mStopIteration\u001b[39;00m\n",
      "File \u001b[0;32m~/.local/lib/python3.10/site-packages/tensorflow/python/data/ops/iterator_ops.py:780\u001b[0m, in \u001b[0;36mOwnedIterator._next_internal\u001b[0;34m(self)\u001b[0m\n\u001b[1;32m    777\u001b[0m \u001b[39m# TODO(b/77291417): This runs in sync mode as iterators use an error status\u001b[39;00m\n\u001b[1;32m    778\u001b[0m \u001b[39m# to communicate that there is no more data to iterate over.\u001b[39;00m\n\u001b[1;32m    779\u001b[0m \u001b[39mwith\u001b[39;00m context\u001b[39m.\u001b[39mexecution_mode(context\u001b[39m.\u001b[39mSYNC):\n\u001b[0;32m--> 780\u001b[0m   ret \u001b[39m=\u001b[39m gen_dataset_ops\u001b[39m.\u001b[39;49miterator_get_next(\n\u001b[1;32m    781\u001b[0m       \u001b[39mself\u001b[39;49m\u001b[39m.\u001b[39;49m_iterator_resource,\n\u001b[1;32m    782\u001b[0m       output_types\u001b[39m=\u001b[39;49m\u001b[39mself\u001b[39;49m\u001b[39m.\u001b[39;49m_flat_output_types,\n\u001b[1;32m    783\u001b[0m       output_shapes\u001b[39m=\u001b[39;49m\u001b[39mself\u001b[39;49m\u001b[39m.\u001b[39;49m_flat_output_shapes)\n\u001b[1;32m    785\u001b[0m   \u001b[39mtry\u001b[39;00m:\n\u001b[1;32m    786\u001b[0m     \u001b[39m# Fast path for the case `self._structure` is not a nested structure.\u001b[39;00m\n\u001b[1;32m    787\u001b[0m     \u001b[39mreturn\u001b[39;00m \u001b[39mself\u001b[39m\u001b[39m.\u001b[39m_element_spec\u001b[39m.\u001b[39m_from_compatible_tensor_list(ret)  \u001b[39m# pylint: disable=protected-access\u001b[39;00m\n",
      "File \u001b[0;32m~/.local/lib/python3.10/site-packages/tensorflow/python/ops/gen_dataset_ops.py:3016\u001b[0m, in \u001b[0;36miterator_get_next\u001b[0;34m(iterator, output_types, output_shapes, name)\u001b[0m\n\u001b[1;32m   3014\u001b[0m   \u001b[39mreturn\u001b[39;00m _result\n\u001b[1;32m   3015\u001b[0m \u001b[39mexcept\u001b[39;00m _core\u001b[39m.\u001b[39m_NotOkStatusException \u001b[39mas\u001b[39;00m e:\n\u001b[0;32m-> 3016\u001b[0m   _ops\u001b[39m.\u001b[39;49mraise_from_not_ok_status(e, name)\n\u001b[1;32m   3017\u001b[0m \u001b[39mexcept\u001b[39;00m _core\u001b[39m.\u001b[39m_FallbackException:\n\u001b[1;32m   3018\u001b[0m   \u001b[39mpass\u001b[39;00m\n",
      "File \u001b[0;32m~/.local/lib/python3.10/site-packages/tensorflow/python/framework/ops.py:7262\u001b[0m, in \u001b[0;36mraise_from_not_ok_status\u001b[0;34m(e, name)\u001b[0m\n\u001b[1;32m   7260\u001b[0m \u001b[39mdef\u001b[39;00m \u001b[39mraise_from_not_ok_status\u001b[39m(e, name):\n\u001b[1;32m   7261\u001b[0m   e\u001b[39m.\u001b[39mmessage \u001b[39m+\u001b[39m\u001b[39m=\u001b[39m (\u001b[39m\"\u001b[39m\u001b[39m name: \u001b[39m\u001b[39m\"\u001b[39m \u001b[39m+\u001b[39m name \u001b[39mif\u001b[39;00m name \u001b[39mis\u001b[39;00m \u001b[39mnot\u001b[39;00m \u001b[39mNone\u001b[39;00m \u001b[39melse\u001b[39;00m \u001b[39m\"\u001b[39m\u001b[39m\"\u001b[39m)\n\u001b[0;32m-> 7262\u001b[0m   \u001b[39mraise\u001b[39;00m core\u001b[39m.\u001b[39m_status_to_exception(e) \u001b[39mfrom\u001b[39;00m \u001b[39mNone\u001b[39;00m\n",
      "\u001b[0;31mUnknownError\u001b[0m: {{function_node __wrapped__IteratorGetNext_output_types_1_device_/job:localhost/replica:0/task:0/device:CPU:0}} CannotBeAwkward: SimHit\nTraceback (most recent call last):\n\n  File \"/home/kris/.local/lib/python3.10/site-packages/tensorflow/python/ops/script_ops.py\", line 267, in __call__\n    ret = func(*args)\n\n  File \"/home/kris/.local/lib/python3.10/site-packages/tensorflow/python/autograph/impl/api.py\", line 642, in wrapper\n    return func(*args, **kwargs)\n\n  File \"/home/kris/.local/lib/python3.10/site-packages/tensorflow/python/data/ops/from_generator_op.py\", line 198, in generator_py_func\n    values = next(generator_state.get_iterator(iterator_id))\n\n  File \"/home/kris/Documents/coding/WAWTPC/ML/MachineLearningTPC/MachineLearning/WAWTPC/classification/TPCParser.py\", line 178, in generator\n    for array in uproot.iterate(files, step_size=batchSize,\n\n  File \"/home/kris/.local/lib/python3.10/site-packages/uproot/behaviors/TBranch.py\", line 193, in iterate\n    for item in hasbranches.iterate(\n\n  File \"/home/kris/.local/lib/python3.10/site-packages/uproot/behaviors/TBranch.py\", line 1080, in iterate\n    _ranges_or_baskets_to_arrays(\n\n  File \"/home/kris/.local/lib/python3.10/site-packages/uproot/behaviors/TBranch.py\", line 3041, in _ranges_or_baskets_to_arrays\n    arrays[cache_key] = interpretation.final_array(\n\n  File \"/home/kris/.local/lib/python3.10/site-packages/uproot/interpretation/objects.py\", line 423, in final_array\n    output = library.finalize(\n\n  File \"/home/kris/.local/lib/python3.10/site-packages/uproot/interpretation/library.py\", line 572, in finalize\n    interpretation.awkward_form(interpretation.branch.file).to_json()\n\n  File \"/home/kris/.local/lib/python3.10/site-packages/uproot/interpretation/objects.py\", line 113, in awkward_form\n    return self._model.awkward_form(self._branch.file, context)\n\n  File \"/home/kris/.local/lib/python3.10/site-packages/uproot/containers.py\", line 691, in awkward_form\n    values_form = uproot._util.awkward_form(self._values, file, context)\n\n  File \"/home/kris/.local/lib/python3.10/site-packages/uproot/_util.py\", line 587, in awkward_form\n    return model.awkward_form(file, context)\n\n  File \"/home/kris/.local/lib/python3.10/site-packages/uproot/containers.py\", line 1063, in awkward_form\n    uproot._util.awkward_form(self._values, file, context),\n\n  File \"/home/kris/.local/lib/python3.10/site-packages/uproot/_util.py\", line 587, in awkward_form\n    return model.awkward_form(file, context)\n\n  File \"/home/kris/.local/lib/python3.10/site-packages/uproot/model.py\", line 686, in awkward_form\n    raise uproot.interpretation.objects.CannotBeAwkward(\n\nuproot.interpretation.objects.CannotBeAwkward: SimHit\n\n\n\t [[{{node PyFunc}}]] [Op:IteratorGetNext]"
     ]
    }
   ],
   "source": [
    "import TPCParser as io\n",
    "importlib.reload(io)\n",
    "###############################################\n",
    "# <> PARSE DATA <> #\n",
    "path = '/home/kris/Documents/coding/WAWTPC/krisTPCReco/TPCReco-kris/build/resources/'\n",
    "filename1 = 'THREE_ALPHA_BE+_1k_131MeV_250mbar_.root:TPCData'\n",
    "filename2 = 'C12_ALPHA_1k_131MeV_250mbar_.root'\n",
    "\n",
    "train_files = [path+filename1]\n",
    "            \n",
    "datasetGenerator = partial(io.generator, files=train_files, batchSize=100)\n",
    "\n",
    "\n",
    "train_dataset = tf.data.Dataset.from_generator(\n",
    "     datasetGenerator,\n",
    "     output_signature=(\n",
    "         tf.TensorSpec(shape=(100,) + (projections.shape), dtype=tf.float32),\n",
    "    ))\n",
    "#dataBeP = io.getDataML(path+filename1)\n",
    "#dataC12 = io.getDataML(path+filename2)\n",
    "\n",
    "for aBatch in train_dataset.take(1):\n",
    "   \n",
    "    pass\n"
   ]
  },
  {
   "cell_type": "code",
   "execution_count": null,
   "metadata": {},
   "outputs": [
    {
     "name": "stderr",
     "output_type": "stream",
     "text": [
      "2023-07-01 00:05:06.796271: I tensorflow/core/common_runtime/executor.cc:1197] [/device:CPU:0] (DEBUG INFO) Executor start aborting (this does not indicate an error and you can ignore this message): INVALID_ARGUMENT: You must feed a value for placeholder tensor 'Placeholder/_0' with dtype int32\n",
      "\t [[{{node Placeholder/_0}}]]\n",
      "2023-07-01 00:05:15.910875: W tensorflow/core/framework/op_kernel.cc:1818] INVALID_ARGUMENT: TypeError: `generator` yielded an element of shape (100, 3, 3, 512, 3) where an element of shape (None, 512, 512, 3) was expected.\n",
      "Traceback (most recent call last):\n",
      "\n",
      "  File \"/home/kris/.local/lib/python3.10/site-packages/tensorflow/python/ops/script_ops.py\", line 267, in __call__\n",
      "    ret = func(*args)\n",
      "\n",
      "  File \"/home/kris/.local/lib/python3.10/site-packages/tensorflow/python/autograph/impl/api.py\", line 642, in wrapper\n",
      "    return func(*args, **kwargs)\n",
      "\n",
      "  File \"/home/kris/.local/lib/python3.10/site-packages/tensorflow/python/data/ops/from_generator_op.py\", line 235, in generator_py_func\n",
      "    raise TypeError(\n",
      "\n",
      "TypeError: `generator` yielded an element of shape (100, 3, 3, 512, 3) where an element of shape (None, 512, 512, 3) was expected.\n",
      "\n",
      "\n",
      "2023-07-01 00:05:15.911321: I tensorflow/core/common_runtime/executor.cc:1197] [/job:localhost/replica:0/task:0/device:CPU:0] (DEBUG INFO) Executor start aborting (this does not indicate an error and you can ignore this message): INVALID_ARGUMENT: TypeError: `generator` yielded an element of shape (100, 3, 3, 512, 3) where an element of shape (None, 512, 512, 3) was expected.\n",
      "Traceback (most recent call last):\n",
      "\n",
      "  File \"/home/kris/.local/lib/python3.10/site-packages/tensorflow/python/ops/script_ops.py\", line 267, in __call__\n",
      "    ret = func(*args)\n",
      "\n",
      "  File \"/home/kris/.local/lib/python3.10/site-packages/tensorflow/python/autograph/impl/api.py\", line 642, in wrapper\n",
      "    return func(*args, **kwargs)\n",
      "\n",
      "  File \"/home/kris/.local/lib/python3.10/site-packages/tensorflow/python/data/ops/from_generator_op.py\", line 235, in generator_py_func\n",
      "    raise TypeError(\n",
      "\n",
      "TypeError: `generator` yielded an element of shape (100, 3, 3, 512, 3) where an element of shape (None, 512, 512, 3) was expected.\n",
      "\n",
      "\n",
      "\t [[{{node PyFunc}}]]\n"
     ]
    },
    {
     "ename": "InvalidArgumentError",
     "evalue": "{{function_node __wrapped__IteratorGetNext_output_types_1_device_/job:localhost/replica:0/task:0/device:CPU:0}} TypeError: `generator` yielded an element of shape (100, 3, 3, 512, 3) where an element of shape (None, 512, 512, 3) was expected.\nTraceback (most recent call last):\n\n  File \"/home/kris/.local/lib/python3.10/site-packages/tensorflow/python/ops/script_ops.py\", line 267, in __call__\n    ret = func(*args)\n\n  File \"/home/kris/.local/lib/python3.10/site-packages/tensorflow/python/autograph/impl/api.py\", line 642, in wrapper\n    return func(*args, **kwargs)\n\n  File \"/home/kris/.local/lib/python3.10/site-packages/tensorflow/python/data/ops/from_generator_op.py\", line 235, in generator_py_func\n    raise TypeError(\n\nTypeError: `generator` yielded an element of shape (100, 3, 3, 512, 3) where an element of shape (None, 512, 512, 3) was expected.\n\n\n\t [[{{node PyFunc}}]] [Op:IteratorGetNext]",
     "output_type": "error",
     "traceback": [
      "\u001b[0;31m---------------------------------------------------------------------------\u001b[0m",
      "\u001b[0;31mInvalidArgumentError\u001b[0m                      Traceback (most recent call last)",
      "Cell \u001b[0;32mIn[11], line 17\u001b[0m\n\u001b[1;32m     10\u001b[0m         \u001b[39myield\u001b[39;00m data\n\u001b[1;32m     12\u001b[0m train_dataset \u001b[39m=\u001b[39m tf\u001b[39m.\u001b[39mdata\u001b[39m.\u001b[39mDataset\u001b[39m.\u001b[39mfrom_generator(\n\u001b[1;32m     13\u001b[0m     generator_wrapper,\n\u001b[1;32m     14\u001b[0m     output_signature\u001b[39m=\u001b[39mtf\u001b[39m.\u001b[39mTensorSpec(shape\u001b[39m=\u001b[39m(\u001b[39mNone\u001b[39;00m, \u001b[39m512\u001b[39m, \u001b[39m512\u001b[39m, \u001b[39m3\u001b[39m), dtype\u001b[39m=\u001b[39mtf\u001b[39m.\u001b[39mfloat32)\n\u001b[1;32m     15\u001b[0m )\n\u001b[0;32m---> 17\u001b[0m \u001b[39mfor\u001b[39;00m batch_data \u001b[39min\u001b[39;00m train_dataset\u001b[39m.\u001b[39mtake(\u001b[39m1\u001b[39m):\n\u001b[1;32m     18\u001b[0m     \u001b[39mprint\u001b[39m(batch_data)\n",
      "File \u001b[0;32m~/.local/lib/python3.10/site-packages/tensorflow/python/data/ops/iterator_ops.py:797\u001b[0m, in \u001b[0;36mOwnedIterator.__next__\u001b[0;34m(self)\u001b[0m\n\u001b[1;32m    795\u001b[0m \u001b[39mdef\u001b[39;00m \u001b[39m__next__\u001b[39m(\u001b[39mself\u001b[39m):\n\u001b[1;32m    796\u001b[0m   \u001b[39mtry\u001b[39;00m:\n\u001b[0;32m--> 797\u001b[0m     \u001b[39mreturn\u001b[39;00m \u001b[39mself\u001b[39;49m\u001b[39m.\u001b[39;49m_next_internal()\n\u001b[1;32m    798\u001b[0m   \u001b[39mexcept\u001b[39;00m errors\u001b[39m.\u001b[39mOutOfRangeError:\n\u001b[1;32m    799\u001b[0m     \u001b[39mraise\u001b[39;00m \u001b[39mStopIteration\u001b[39;00m\n",
      "File \u001b[0;32m~/.local/lib/python3.10/site-packages/tensorflow/python/data/ops/iterator_ops.py:780\u001b[0m, in \u001b[0;36mOwnedIterator._next_internal\u001b[0;34m(self)\u001b[0m\n\u001b[1;32m    777\u001b[0m \u001b[39m# TODO(b/77291417): This runs in sync mode as iterators use an error status\u001b[39;00m\n\u001b[1;32m    778\u001b[0m \u001b[39m# to communicate that there is no more data to iterate over.\u001b[39;00m\n\u001b[1;32m    779\u001b[0m \u001b[39mwith\u001b[39;00m context\u001b[39m.\u001b[39mexecution_mode(context\u001b[39m.\u001b[39mSYNC):\n\u001b[0;32m--> 780\u001b[0m   ret \u001b[39m=\u001b[39m gen_dataset_ops\u001b[39m.\u001b[39;49miterator_get_next(\n\u001b[1;32m    781\u001b[0m       \u001b[39mself\u001b[39;49m\u001b[39m.\u001b[39;49m_iterator_resource,\n\u001b[1;32m    782\u001b[0m       output_types\u001b[39m=\u001b[39;49m\u001b[39mself\u001b[39;49m\u001b[39m.\u001b[39;49m_flat_output_types,\n\u001b[1;32m    783\u001b[0m       output_shapes\u001b[39m=\u001b[39;49m\u001b[39mself\u001b[39;49m\u001b[39m.\u001b[39;49m_flat_output_shapes)\n\u001b[1;32m    785\u001b[0m   \u001b[39mtry\u001b[39;00m:\n\u001b[1;32m    786\u001b[0m     \u001b[39m# Fast path for the case `self._structure` is not a nested structure.\u001b[39;00m\n\u001b[1;32m    787\u001b[0m     \u001b[39mreturn\u001b[39;00m \u001b[39mself\u001b[39m\u001b[39m.\u001b[39m_element_spec\u001b[39m.\u001b[39m_from_compatible_tensor_list(ret)  \u001b[39m# pylint: disable=protected-access\u001b[39;00m\n",
      "File \u001b[0;32m~/.local/lib/python3.10/site-packages/tensorflow/python/ops/gen_dataset_ops.py:3016\u001b[0m, in \u001b[0;36miterator_get_next\u001b[0;34m(iterator, output_types, output_shapes, name)\u001b[0m\n\u001b[1;32m   3014\u001b[0m   \u001b[39mreturn\u001b[39;00m _result\n\u001b[1;32m   3015\u001b[0m \u001b[39mexcept\u001b[39;00m _core\u001b[39m.\u001b[39m_NotOkStatusException \u001b[39mas\u001b[39;00m e:\n\u001b[0;32m-> 3016\u001b[0m   _ops\u001b[39m.\u001b[39;49mraise_from_not_ok_status(e, name)\n\u001b[1;32m   3017\u001b[0m \u001b[39mexcept\u001b[39;00m _core\u001b[39m.\u001b[39m_FallbackException:\n\u001b[1;32m   3018\u001b[0m   \u001b[39mpass\u001b[39;00m\n",
      "File \u001b[0;32m~/.local/lib/python3.10/site-packages/tensorflow/python/framework/ops.py:7262\u001b[0m, in \u001b[0;36mraise_from_not_ok_status\u001b[0;34m(e, name)\u001b[0m\n\u001b[1;32m   7260\u001b[0m \u001b[39mdef\u001b[39;00m \u001b[39mraise_from_not_ok_status\u001b[39m(e, name):\n\u001b[1;32m   7261\u001b[0m   e\u001b[39m.\u001b[39mmessage \u001b[39m+\u001b[39m\u001b[39m=\u001b[39m (\u001b[39m\"\u001b[39m\u001b[39m name: \u001b[39m\u001b[39m\"\u001b[39m \u001b[39m+\u001b[39m name \u001b[39mif\u001b[39;00m name \u001b[39mis\u001b[39;00m \u001b[39mnot\u001b[39;00m \u001b[39mNone\u001b[39;00m \u001b[39melse\u001b[39;00m \u001b[39m\"\u001b[39m\u001b[39m\"\u001b[39m)\n\u001b[0;32m-> 7262\u001b[0m   \u001b[39mraise\u001b[39;00m core\u001b[39m.\u001b[39m_status_to_exception(e) \u001b[39mfrom\u001b[39;00m \u001b[39mNone\u001b[39;00m\n",
      "\u001b[0;31mInvalidArgumentError\u001b[0m: {{function_node __wrapped__IteratorGetNext_output_types_1_device_/job:localhost/replica:0/task:0/device:CPU:0}} TypeError: `generator` yielded an element of shape (100, 3, 3, 512, 3) where an element of shape (None, 512, 512, 3) was expected.\nTraceback (most recent call last):\n\n  File \"/home/kris/.local/lib/python3.10/site-packages/tensorflow/python/ops/script_ops.py\", line 267, in __call__\n    ret = func(*args)\n\n  File \"/home/kris/.local/lib/python3.10/site-packages/tensorflow/python/autograph/impl/api.py\", line 642, in wrapper\n    return func(*args, **kwargs)\n\n  File \"/home/kris/.local/lib/python3.10/site-packages/tensorflow/python/data/ops/from_generator_op.py\", line 235, in generator_py_func\n    raise TypeError(\n\nTypeError: `generator` yielded an element of shape (100, 3, 3, 512, 3) where an element of shape (None, 512, 512, 3) was expected.\n\n\n\t [[{{node PyFunc}}]] [Op:IteratorGetNext]"
     ]
    },
    {
     "name": "stderr",
     "output_type": "stream",
     "text": [
      "2023-07-01 00:05:17.557835: W tensorflow/core/framework/op_kernel.cc:1818] INVALID_ARGUMENT: TypeError: `generator` yielded an element of shape (100, 3, 3, 512, 3) where an element of shape (None, 512, 512, 3) was expected.\n",
      "Traceback (most recent call last):\n",
      "\n",
      "  File \"/home/kris/.local/lib/python3.10/site-packages/tensorflow/python/ops/script_ops.py\", line 267, in __call__\n",
      "    ret = func(*args)\n",
      "\n",
      "  File \"/home/kris/.local/lib/python3.10/site-packages/tensorflow/python/autograph/impl/api.py\", line 642, in wrapper\n",
      "    return func(*args, **kwargs)\n",
      "\n",
      "  File \"/home/kris/.local/lib/python3.10/site-packages/tensorflow/python/data/ops/from_generator_op.py\", line 235, in generator_py_func\n",
      "    raise TypeError(\n",
      "\n",
      "TypeError: `generator` yielded an element of shape (100, 3, 3, 512, 3) where an element of shape (None, 512, 512, 3) was expected.\n",
      "\n",
      "\n",
      "2023-07-01 00:05:17.557930: I tensorflow/core/common_runtime/executor.cc:1197] [/job:localhost/replica:0/task:0/device:CPU:0] (DEBUG INFO) Executor start aborting (this does not indicate an error and you can ignore this message): INVALID_ARGUMENT: TypeError: `generator` yielded an element of shape (100, 3, 3, 512, 3) where an element of shape (None, 512, 512, 3) was expected.\n",
      "Traceback (most recent call last):\n",
      "\n",
      "  File \"/home/kris/.local/lib/python3.10/site-packages/tensorflow/python/ops/script_ops.py\", line 267, in __call__\n",
      "    ret = func(*args)\n",
      "\n",
      "  File \"/home/kris/.local/lib/python3.10/site-packages/tensorflow/python/autograph/impl/api.py\", line 642, in wrapper\n",
      "    return func(*args, **kwargs)\n",
      "\n",
      "  File \"/home/kris/.local/lib/python3.10/site-packages/tensorflow/python/data/ops/from_generator_op.py\", line 235, in generator_py_func\n",
      "    raise TypeError(\n",
      "\n",
      "TypeError: `generator` yielded an element of shape (100, 3, 3, 512, 3) where an element of shape (None, 512, 512, 3) was expected.\n",
      "\n",
      "\n",
      "\t [[{{node PyFunc}}]]\n"
     ]
    }
   ],
   "source": [
    "import TPCParser as io\n",
    "import importlib\n",
    "import tensorflow as tf\n",
    "\n",
    "importlib.reload(io)\n",
    "\n",
    "def generator_wrapper():\n",
    "    generator = io.getDataMLGenerator(path + filename1, batch_size=100)\n",
    "    for data in generator:\n",
    "        yield data\n",
    "\n",
    "train_dataset = tf.data.Dataset.from_generator(\n",
    "    generator_wrapper,\n",
    "    output_signature=tf.TensorSpec(shape=(None, 512, 512, 3), dtype=tf.float32)\n",
    ")\n",
    "\n",
    "for batch_data in train_dataset.take(1):\n",
    "    print(batch_data)\n"
   ]
  },
  {
   "attachments": {},
   "cell_type": "markdown",
   "metadata": {},
   "source": [
    "## Training Dataset preparation"
   ]
  },
  {
   "cell_type": "code",
   "execution_count": null,
   "metadata": {},
   "outputs": [],
   "source": []
  },
  {
   "cell_type": "code",
   "execution_count": null,
   "metadata": {},
   "outputs": [],
   "source": []
  },
  {
   "cell_type": "code",
   "execution_count": null,
   "metadata": {},
   "outputs": [],
   "source": []
  },
  {
   "cell_type": "code",
   "execution_count": null,
   "metadata": {},
   "outputs": [],
   "source": []
  },
  {
   "cell_type": "code",
   "execution_count": null,
   "metadata": {},
   "outputs": [
    {
     "name": "stderr",
     "output_type": "stream",
     "text": [
      "/home/kris/.local/lib/python3.10/site-packages/torchvision/models/_utils.py:208: UserWarning: The parameter 'pretrained' is deprecated since 0.13 and may be removed in the future, please use 'weights' instead.\n",
      "  warnings.warn(\n",
      "/home/kris/.local/lib/python3.10/site-packages/torchvision/models/_utils.py:223: UserWarning: Arguments other than a weight enum or `None` for 'weights' are deprecated since 0.13 and may be removed in the future. The current behavior is equivalent to passing `weights=ResNet50_Weights.IMAGENET1K_V1`. You can also use `weights=ResNet50_Weights.DEFAULT` to get the most up-to-date weights.\n",
      "  warnings.warn(msg)\n"
     ]
    }
   ],
   "source": [
    "num_classes = 3\n",
    "resnet_model = models.resnet50(pretrained=True)\n",
    "\n",
    "# Freeze the early layers\n",
    "for param in resnet_model.parameters():\n",
    "    param.requires_grad = False\n",
    "\n",
    "\n",
    "    "
   ]
  }
 ],
 "metadata": {
  "kernelspec": {
   "display_name": "Python 3",
   "language": "python",
   "name": "python3"
  },
  "language_info": {
   "codemirror_mode": {
    "name": "ipython",
    "version": 3
   },
   "file_extension": ".py",
   "mimetype": "text/x-python",
   "name": "python",
   "nbconvert_exporter": "python",
   "pygments_lexer": "ipython3",
   "version": "3.10.6"
  },
  "orig_nbformat": 4
 },
 "nbformat": 4,
 "nbformat_minor": 2
}
