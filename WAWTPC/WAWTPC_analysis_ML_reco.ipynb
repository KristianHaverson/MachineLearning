{
 "cells": [
  {
   "cell_type": "markdown",
   "id": "b55d9992-62d7-463e-8824-729bfa372d36",
   "metadata": {},
   "source": [
    "## Workspace setup"
   ]
  },
  {
   "cell_type": "code",
   "execution_count": null,
   "id": "2ea5548e-ff6f-4ca6-b7be-5c71b94eba15",
   "metadata": {
    "tags": []
   },
   "outputs": [],
   "source": [
    "from datetime import datetime  \n",
    "import uproot\n",
    "from functools import partial\n",
    "import numpy as np\n",
    "import tensorflow as tf\n",
    "import importlib"
   ]
  },
  {
   "cell_type": "markdown",
   "id": "cec2e5f8-c04e-4754-9011-e1bb4e0b9c2f",
   "metadata": {},
   "source": [
    "## Training dataset preparation"
   ]
  },
  {
   "cell_type": "code",
   "execution_count": null,
   "id": "bbd1ad60-1949-4e84-93c9-ffdb499033bf",
   "metadata": {
    "tags": []
   },
   "outputs": [],
   "source": [
    "import io_functions as io\n",
    "importlib.reload(io)\n",
    "\n",
    "import plotting_functions as plf\n",
    "importlib.reload(plf)\n",
    "\n",
    "batchSize = 18\n",
    "\n",
    "#dataPath = '/scratch_hdd/akalinow/ELITPC/data/PythonAnalysis/E_11_sigma_2/'\n",
    "#test_files = [dataPath+'out_C_arr_8.root:TPCData']\n",
    "dataPath = '/scratch_cmsse/akalinow/ELITPC/data/HIgS_2022/20220412_extTrg_CO2_190mbar_DT1470ET/11.5MeV/EventTPC/2022-04-12T08-03-44/'\n",
    "test_files = [dataPath+'EventTPC_2022-04-12T08:03:44.531_0000.root:TPCData']\n",
    "\n",
    "datasetGenerator = partial(io.generator, files=test_files, batchSize=batchSize, features_only=True)\n",
    "\n",
    "test_dataset = tf.data.Dataset.from_generator(\n",
    "     datasetGenerator,\n",
    "     output_signature=(\n",
    "         tf.TensorSpec(shape=(batchSize,) + (io.projections.shape), dtype=tf.float32),\n",
    "          tf.TensorSpec(shape=(batchSize,9), dtype=tf.float32)))"
   ]
  },
  {
   "cell_type": "code",
   "execution_count": null,
   "id": "673bfe31-cc53-4d78-9841-fbf8ef72f86b",
   "metadata": {
    "tags": []
   },
   "outputs": [],
   "source": [
    "for aBatch in test_dataset.take(5):\n",
    "    plf.plotEvent(aBatch, model=None)\n",
    "    pass"
   ]
  },
  {
   "cell_type": "markdown",
   "id": "66cfbe0e-5e08-4d62-9c32-d8056b5577e5",
   "metadata": {},
   "source": [
    "## Model performance on training data.\n",
    "\n",
    "Fill Pandas DataFrame with true and response values."
   ]
  },
  {
   "cell_type": "code",
   "execution_count": null,
   "id": "c3943ae1-a41a-404c-b6b3-8df8f199363b",
   "metadata": {
    "tags": []
   },
   "outputs": [],
   "source": [
    "%%time\n",
    "import utility_functions as utils\n",
    "importlib.reload(utils)\n",
    "\n",
    "model_path = \"./training/0020_2023_Jun_02_13_37_57\"\n",
    "\n",
    "model = tf.keras.models.load_model(model_path)\n",
    "\n",
    "df = utils.df\n",
    "\n",
    "for aBatch in test_dataset: \n",
    "    df = utils.fillPandasDataset(aBatch, df, model)     \n",
    "    \n",
    "for aBatch in test_dataset.take(5):\n",
    "    plf.plotEvent(aBatch, model=model)\n",
    "\n",
    "df.describe()    "
   ]
  },
  {
   "cell_type": "markdown",
   "id": "db910448-d47c-4bfc-8b44-87622becec17",
   "metadata": {},
   "source": [
    "### Resolution plots"
   ]
  },
  {
   "cell_type": "code",
   "execution_count": null,
   "id": "17888e9c-9954-4435-a6e3-64d64f840579",
   "metadata": {
    "tags": []
   },
   "outputs": [],
   "source": [
    "import plotting_functions as plf\n",
    "importlib.reload(plf)\n",
    "\n",
    "#plf.controlPlots(df)\n",
    "plf.plotEndPointRes(df=df, edge=\"Start\", partIdx=1)\n",
    "plf.plotEndPointRes(df=df, edge=\"Stop\", partIdx=1)\n",
    "\n",
    "plf.plotEndPointRes(df=df, edge=\"Start\", partIdx=2)\n",
    "plf.plotEndPointRes(df=df, edge=\"Stop\", partIdx=2)\n",
    "\n",
    "plf.plotLengthPull(df, partIdx=1)\n",
    "plf.plotLengthPull(df, partIdx=2)\n",
    "plf.plotLengthPullEvolution(df)\n",
    "plf.plotOpeningAngleCos(df)"
   ]
  },
  {
   "cell_type": "code",
   "execution_count": null,
   "id": "47b73384-0ef5-4e42-bbb8-a0b7ebdd66ac",
   "metadata": {
    "tags": []
   },
   "outputs": [],
   "source": [
    "mask = np.abs(df[\"GEN_StartPosX\"] - df[\"RECO_StartPosX\"])<3\n",
    "df_filtered = df[mask]\n",
    "\n",
    "mask = np.abs(df_filtered[\"GEN_StartPosY\"] - df_filtered[\"RECO_StartPosY\"])<3\n",
    "df_filtered = df_filtered[mask]\n",
    "\n",
    "mask = np.abs(df_filtered[\"GEN_StopPosX_Part1\"] - df_filtered[\"RECO_StopPosX_Part1\"])<10\n",
    "df_filtered = df_filtered[mask]\n",
    "\n",
    "print(df_filtered.describe())\n",
    "\n",
    "plf.plotEndPointRes(df=df_filtered, edge=\"Start\", partIdx=1)\n",
    "plf.plotEndPointRes(df=df_filtered, edge=\"Stop\", partIdx=1)\n",
    "\n",
    "plf.plotEndPointRes(df=df_filtered, edge=\"Start\", partIdx=2)\n",
    "plf.plotEndPointRes(df=df_filtered, edge=\"Stop\", partIdx=2)\n",
    "\n",
    "plf.plotLengthPull(df_filtered, partIdx=1)\n",
    "plf.plotLengthPull(df_filtered, partIdx=2)\n",
    "plf.plotLengthPullEvolution(df_filtered)\n",
    "plf.plotOpeningAngleCos(df_filtered)"
   ]
  }
 ],
 "metadata": {
  "kernelspec": {
   "display_name": "Python 3 (ipykernel)",
   "language": "python",
   "name": "python3"
  },
  "language_info": {
   "codemirror_mode": {
    "name": "ipython",
    "version": 3
   },
   "file_extension": ".py",
   "mimetype": "text/x-python",
   "name": "python",
   "nbconvert_exporter": "python",
   "pygments_lexer": "ipython3",
   "version": "3.8.10"
  }
 },
 "nbformat": 4,
 "nbformat_minor": 5
}
