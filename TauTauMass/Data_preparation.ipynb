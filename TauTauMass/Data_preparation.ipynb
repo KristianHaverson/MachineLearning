{
 "cells": [
  {
   "cell_type": "code",
   "execution_count": 127,
   "metadata": {},
   "outputs": [],
   "source": [
    "import pathlib\n",
    "import glob\n",
    "import os\n",
    "import pandas as pd\n",
    "import numpy as np\n",
    "from collections import OrderedDict\n",
    "\n",
    "import tensorflow as tf\n",
    "\n",
    "workerEnv = str(os.getenv(\"USER\"))\n",
    "workOnPrometheus = workerEnv.find(\"plg\")>-1\n",
    "inputDataPrefix = \"/home/user1/scratch/akalinow/\"\n",
    "if workOnPrometheus:\n",
    "    inputDataPrefix = \"/net/people/plgakalinow/plggcmsml/\"\n",
    "dataDir = inputDataPrefix+\"/ProgrammingProjects/MachineLearning/TauTauMass/data/\"   "
   ]
  },
  {
   "cell_type": "markdown",
   "metadata": {},
   "source": [
    "## Transform pickled data to pandas DataFrame"
   ]
  },
  {
   "cell_type": "code",
   "execution_count": 113,
   "metadata": {},
   "outputs": [],
   "source": [
    "def getNumpyMatricesFromRawData(filePath):\n",
    "\n",
    "        legs, jets, global_params, properties = pd.read_pickle(filePath)\n",
    "        properties = OrderedDict(sorted(properties.items(), key=lambda t: t[0]))\n",
    "\n",
    "        print(\"no of legs: \", len(legs))\n",
    "        print(\"no of jets: \", len(jets))\n",
    "        print(\"global params: \", global_params.keys())\n",
    "        print(\"object properties:\",properties.keys())\n",
    "\n",
    "        genMass = np.array(global_params[\"genMass\"])\n",
    "        fastMTT = np.array(global_params[\"fastMTTMass\"])\n",
    "        visMass = np.array(global_params[\"visMass\"])\n",
    "        caMass = np.array(global_params[\"caMass\"])\n",
    "        leg1P4 = np.array(legs[0])\n",
    "        leg2P4 = np.array(legs[1])\n",
    "        leg1GenP4 = np.array(legs[2])\n",
    "        leg2GenP4 = np.array(legs[3])        \n",
    "        leg2Properties = np.array(properties[\"leg_2_decayMode\"])\n",
    "        leg1Properties = np.array(properties[\"leg_1_combreliso\"])\n",
    "        jet1P4 = np.array(jets[1])\n",
    "        jet2P4 = np.array(jets[2])        \n",
    "        met = np.array(jets[0][0:3])\n",
    "\n",
    "        genMass = np.reshape(genMass, (-1,1))\n",
    "        visMass = np.reshape(visMass, (-1,1))\n",
    "        caMass = np.reshape(caMass, (-1,1))\n",
    "        fastMTT = np.reshape(fastMTT, (-1,1))\n",
    "        leg2Properties = np.reshape(leg2Properties, (-1,1))\n",
    "        leg1Properties = np.reshape(leg1Properties, (-1,1))\n",
    "        leg1P4 = np.transpose(leg1P4)\n",
    "        leg2P4 = np.transpose(leg2P4)\n",
    "        leg1GenP4 = np.transpose(leg1GenP4)\n",
    "        leg2GenP4 = np.transpose(leg2GenP4)        \n",
    "        jet1P4 = np.transpose(jet1P4)\n",
    "        jet2P4 = np.transpose(jet2P4)\n",
    "        met = np.transpose(met)\n",
    "                       \n",
    "        columns = [\"genMass\", \"visMass\", \"caMass\", \"fastMTT\",\n",
    "                   \"leg1_e\", \"leg1_px\",\"leg1_py\",\"leg1_pz\", \n",
    "                   \"leg2_e\", \"leg2_px\",\"leg2_py\",\"leg2_pz\",\n",
    "                   \"leg_2_decayMode\",\n",
    "                   \"met\", \"met_x\", \"met_y\"]\n",
    "        \n",
    "        features = np.hstack((genMass, visMass, caMass, fastMTT, leg1P4, leg2P4, leg2Properties, met))\n",
    "        df = pd.DataFrame(data=features, columns=columns)     \n",
    "        return df"
   ]
  },
  {
   "cell_type": "markdown",
   "metadata": {},
   "source": [
    "## Load train and test datasets"
   ]
  },
  {
   "cell_type": "code",
   "execution_count": 125,
   "metadata": {},
   "outputs": [
    {
     "name": "stdout",
     "output_type": "stream",
     "text": [
      "Processing file: /home/user1/scratch/akalinow//ProgrammingProjects/MachineLearning/TauTauMass/data/htt_features_train.pkl\n",
      "/home/user1/scratch/akalinow//ProgrammingProjects/MachineLearning/TauTauMass/data/df.parquet_htt_features_train.gzip\n",
      "no of legs:  4\n",
      "no of jets:  3\n",
      "global params:  dict_keys(['genMass', 'caMass', 'covMET11', 'covMET10', 'fastMTTMass', 'visMass', 'covMET00', 'covMET01'])\n",
      "object properties: odict_keys(['leg_1_charge', 'leg_1_combreliso', 'leg_2_DPFTau_2016_v1tauVSall', 'leg_2_byCombinedIsolationDeltaBetaCorrRaw3Hits', 'leg_2_byIsolationMVArun2v1DBoldDMwLTraw', 'leg_2_byIsolationMVArun2v1DBoldDMwLTraw2017v2', 'leg_2_charge', 'leg_2_chargedIsoPtSum', 'leg_2_decayDistMag', 'leg_2_decayMode', 'leg_2_deepTau2017v1tauVSall', 'leg_2_deepTau2017v1tauVSjet', 'leg_2_dxy', 'leg_2_dxy_Sig', 'leg_2_eRatio', 'leg_2_flightLengthSig', 'leg_2_gjAngleDiff', 'leg_2_hasSecondaryVertex', 'leg_2_ip3d', 'leg_2_nPhoton', 'leg_2_neutralIsoPtSum', 'leg_2_photonPtSumOutsideSignalCone', 'leg_2_ptWeightedDetaStrip', 'leg_2_ptWeightedDphiStrip', 'leg_2_ptWeightedDrIsolation', 'leg_2_ptWeightedDrSignal', 'leg_2_puCorrPtSum', 'leg_3_charge', 'leg_4_charge'])\n",
      "     genMass    visMass     caMass    fastMTT      leg1_e   leg1_px  \\\n",
      "0  49.936089  46.194687  46.030159  57.269085   19.271826 -3.438522   \n",
      "1  50.000206  38.626575  56.572056  51.669079   11.224810  8.788173   \n",
      "2  49.999779  23.719212  39.510944  30.993103  204.556383 -4.663384   \n",
      "3  50.003502  30.086365   0.000000  46.252537   14.934880 -5.802476   \n",
      "4  49.997028  27.578646  53.263794  43.975536   11.830732  4.715982   \n",
      "\n",
      "     leg1_py     leg1_pz      leg2_e    leg2_px    leg2_py     leg2_pz  \\\n",
      "0 -11.263654   15.233427  138.990667   5.256323  36.437993  134.018092   \n",
      "1   5.350939    4.396518   45.021708 -35.010883  -9.297611   26.723440   \n",
      "2   0.971744 -204.499250   29.838599   7.405395   3.911714  -28.625265   \n",
      "3 -12.524401    5.540000   19.854017   1.754919   2.923544  -19.558519   \n",
      "4  -9.744456    4.655778   37.531218  -8.291240   6.548331   36.001604   \n",
      "\n",
      "   leg_2_decayMode        met     met_x      met_y  \n",
      "0             11.0   0.269020  0.138916   0.230378  \n",
      "1              1.0   2.570735  1.008080   2.364837  \n",
      "2              1.0   8.511247 -8.126137   2.531249  \n",
      "3              0.0   6.028767  0.946659   5.953979  \n",
      "4             17.0  11.520949  3.791425 -10.879217  \n",
      "Processing file: /home/user1/scratch/akalinow//ProgrammingProjects/MachineLearning/TauTauMass/data/htt_features_DY_ggH125.pkl\n",
      "/home/user1/scratch/akalinow//ProgrammingProjects/MachineLearning/TauTauMass/data/df.parquet_htt_features_DY_ggH125.gzip\n",
      "no of legs:  4\n",
      "no of jets:  3\n",
      "global params:  dict_keys(['genMass', 'caMass', 'covMET11', 'covMET10', 'fastMTTMass', 'visMass', 'covMET00', 'covMET01'])\n",
      "object properties: odict_keys(['leg_1_charge', 'leg_1_combreliso', 'leg_2_DPFTau_2016_v1tauVSall', 'leg_2_byCombinedIsolationDeltaBetaCorrRaw3Hits', 'leg_2_byIsolationMVArun2v1DBoldDMwLTraw', 'leg_2_byIsolationMVArun2v1DBoldDMwLTraw2017v2', 'leg_2_charge', 'leg_2_chargedIsoPtSum', 'leg_2_decayDistMag', 'leg_2_decayMode', 'leg_2_deepTau2017v1tauVSall', 'leg_2_deepTau2017v1tauVSjet', 'leg_2_dxy', 'leg_2_dxy_Sig', 'leg_2_eRatio', 'leg_2_flightLengthSig', 'leg_2_gjAngleDiff', 'leg_2_hasSecondaryVertex', 'leg_2_ip3d', 'leg_2_nPhoton', 'leg_2_neutralIsoPtSum', 'leg_2_photonPtSumOutsideSignalCone', 'leg_2_ptWeightedDetaStrip', 'leg_2_ptWeightedDphiStrip', 'leg_2_ptWeightedDrIsolation', 'leg_2_ptWeightedDrSignal', 'leg_2_puCorrPtSum', 'leg_3_charge', 'leg_4_charge'])\n",
      "     genMass    visMass     caMass    fastMTT      leg1_e   leg1_px  \\\n",
      "0  49.936089  46.194687  46.030159  57.269085   19.271826 -3.438522   \n",
      "1  50.000206  38.626575  56.572056  51.669079   11.224810  8.788173   \n",
      "2  49.999779  23.719212  39.510944  30.993103  204.556383 -4.663384   \n",
      "3  50.003502  30.086365   0.000000  46.252537   14.934880 -5.802476   \n",
      "4  49.997028  27.578646  53.263794  43.975536   11.830732  4.715982   \n",
      "\n",
      "     leg1_py     leg1_pz      leg2_e    leg2_px    leg2_py     leg2_pz  \\\n",
      "0 -11.263654   15.233427  138.990667   5.256323  36.437993  134.018092   \n",
      "1   5.350939    4.396518   45.021708 -35.010883  -9.297611   26.723440   \n",
      "2   0.971744 -204.499250   29.838599   7.405395   3.911714  -28.625265   \n",
      "3 -12.524401    5.540000   19.854017   1.754919   2.923544  -19.558519   \n",
      "4  -9.744456    4.655778   37.531218  -8.291240   6.548331   36.001604   \n",
      "\n",
      "   leg_2_decayMode        met     met_x      met_y  \n",
      "0             11.0   0.269020  0.138916   0.230378  \n",
      "1              1.0   2.570735  1.008080   2.364837  \n",
      "2              1.0   8.511247 -8.126137   2.531249  \n",
      "3              0.0   6.028767  0.946659   5.953979  \n",
      "4             17.0  11.520949  3.791425 -10.879217  \n"
     ]
    }
   ],
   "source": [
    "fileNames = ['htt_features_train.pkl','htt_features_DY_ggH125.pkl']\n",
    "\n",
    "for fileName in fileNames:\n",
    "    print(\"Processing file:\",dataDir+fileName)\n",
    "    label = fileName.split(\"/\")[-1].split(\".\")[0]\n",
    "    label = fileName.rstrip(\".pkl\")\n",
    "    path = str(pathlib.Path(fileName).parent)\n",
    "    parquetFile = dataDir+'df.parquet_{}.gzip'.format(label)\n",
    "    print(parquetFile)\n",
    "    df = getNumpyMatricesFromRawData(dataPath)\n",
    "    df = df.sample(frac=1.0)\n",
    "    df.to_parquet(parquetFile, compression='gzip')"
   ]
  },
  {
   "cell_type": "markdown",
   "metadata": {},
   "source": [
    "## Importing data into TF"
   ]
  },
  {
   "cell_type": "code",
   "execution_count": 134,
   "metadata": {},
   "outputs": [
    {
     "name": "stdout",
     "output_type": "stream",
     "text": [
      "<TensorSliceDataset shapes: ((15,), ()), types: (tf.float64, tf.float64)>\n"
     ]
    }
   ],
   "source": [
    "parquetFile = dataDir + 'df.parquet_htt_features_train.gzip'\n",
    "df = pd.read_parquet(parquetFile)\n",
    "labels = df.pop(\"genMass\")    \n",
    "features = df.values\n",
    "dataset = tf.data.Dataset.from_tensor_slices((features, labels))\n",
    "print(dataset)"
   ]
  },
  {
   "cell_type": "code",
   "execution_count": null,
   "metadata": {},
   "outputs": [],
   "source": []
  }
 ],
 "metadata": {
  "kernelspec": {
   "display_name": "Python 3",
   "language": "python",
   "name": "python3"
  },
  "language_info": {
   "codemirror_mode": {
    "name": "ipython",
    "version": 3
   },
   "file_extension": ".py",
   "mimetype": "text/x-python",
   "name": "python",
   "nbconvert_exporter": "python",
   "pygments_lexer": "ipython3",
   "version": "3.7.6"
  }
 },
 "nbformat": 4,
 "nbformat_minor": 4
}
