{
 "cells": [
  {
   "cell_type": "code",
   "execution_count": 2,
   "metadata": {},
   "outputs": [
    {
     "name": "stdout",
     "output_type": "stream",
     "text": [
      "Welcome to JupyROOT 6.18/04\n"
     ]
    }
   ],
   "source": [
    "import pathlib\n",
    "import glob\n",
    "import os\n",
    "import pandas as pd\n",
    "import numpy as np\n",
    "from root_numpy import root2array\n",
    "from root_pandas import read_root\n",
    "from collections import OrderedDict\n",
    "\n",
    "import tensorflow as tf\n",
    "\n",
    "workerEnv = str(os.getenv(\"USER\"))\n",
    "workOnPrometheus = workerEnv.find(\"plg\")>-1\n",
    "inputDataPrefix = \"/home/user1/scratch/akalinow/\"\n",
    "if workOnPrometheus:\n",
    "    inputDataPrefix = \"/net/people/plgakalinow/plggcmsml/\"\n",
    "dataDir = inputDataPrefix+\"/ProgrammingProjects/MachineLearning/TauTauMass/data/15_09_2020/\"   "
   ]
  },
  {
   "cell_type": "markdown",
   "metadata": {},
   "source": [
    "## Transform pickled data to pandas DataFrame"
   ]
  },
  {
   "cell_type": "code",
   "execution_count": 2,
   "metadata": {},
   "outputs": [
    {
     "name": "stdout",
     "output_type": "stream",
     "text": [
      "\tProcessing chunk: 0\n",
      "     eventWeight  sampleType     genMass     visMass      caMass  fastMTTMass  \\\n",
      "0            1.0         0.0  300.463104  146.578888  262.584076   261.000061   \n",
      "1            1.0         0.0  298.187927  126.315224  329.410095   311.258087   \n",
      "2            1.0         0.0  300.600220  155.025940  357.113220   380.608032   \n",
      "3            1.0         0.0  302.933014  197.339188  310.018890   315.109985   \n",
      "4            1.0         0.0  302.955383  227.782898  321.198700   320.852264   \n",
      "..           ...         ...         ...         ...         ...          ...   \n",
      "995          1.0         0.0  303.151154  118.697479  302.291138   158.263138   \n",
      "996          1.0         0.0  302.037842  137.270767  324.324402   318.719910   \n",
      "997          1.0         0.0  266.697906  188.864731  265.739258   266.429047   \n",
      "998          1.0         0.0  301.575165  192.724030  268.356659   279.543030   \n",
      "999          1.0         0.0  301.725769  126.662796  292.734711   295.039886   \n",
      "\n",
      "     covMET00  covMET01  covMET10  covMET11  ...  jet_1_pZ  jet_2_E  jet_2_pX  \\\n",
      "0        0.01       0.0       0.0      0.01  ...       0.0      0.0       0.0   \n",
      "1        0.01       0.0       0.0      0.01  ...       0.0      0.0       0.0   \n",
      "2        0.01       0.0       0.0      0.01  ...       0.0      0.0       0.0   \n",
      "3        0.01       0.0       0.0      0.01  ...       0.0      0.0       0.0   \n",
      "4        0.01       0.0       0.0      0.01  ...       0.0      0.0       0.0   \n",
      "..        ...       ...       ...       ...  ...       ...      ...       ...   \n",
      "995      0.01       0.0       0.0      0.01  ...       0.0      0.0       0.0   \n",
      "996      0.01       0.0       0.0      0.01  ...       0.0      0.0       0.0   \n",
      "997      0.01       0.0       0.0      0.01  ...       0.0      0.0       0.0   \n",
      "998      0.01       0.0       0.0      0.01  ...       0.0      0.0       0.0   \n",
      "999      0.01       0.0       0.0      0.01  ...       0.0      0.0       0.0   \n",
      "\n",
      "     jet_2_pY  jet_2_pZ  jet_3_E  jet_3_pX  jet_3_pY  jet_3_pZ  \\\n",
      "0         0.0       0.0      0.0       0.0       0.0       0.0   \n",
      "1         0.0       0.0      0.0       0.0       0.0       0.0   \n",
      "2         0.0       0.0      0.0       0.0       0.0       0.0   \n",
      "3         0.0       0.0      0.0       0.0       0.0       0.0   \n",
      "4         0.0       0.0      0.0       0.0       0.0       0.0   \n",
      "..        ...       ...      ...       ...       ...       ...   \n",
      "995       0.0       0.0      0.0       0.0       0.0       0.0   \n",
      "996       0.0       0.0      0.0       0.0       0.0       0.0   \n",
      "997       0.0       0.0      0.0       0.0       0.0       0.0   \n",
      "998       0.0       0.0      0.0       0.0       0.0       0.0   \n",
      "999       0.0       0.0      0.0       0.0       0.0       0.0   \n",
      "\n",
      "     leg_2_decayMode  \n",
      "0                0.0  \n",
      "1                1.0  \n",
      "2                1.0  \n",
      "3               10.0  \n",
      "4                1.0  \n",
      "..               ...  \n",
      "995              2.0  \n",
      "996              1.0  \n",
      "997              3.0  \n",
      "998             10.0  \n",
      "999              1.0  \n",
      "\n",
      "[1000 rows x 39 columns]\n"
     ]
    }
   ],
   "source": [
    "fileName = \"/home/user1/scratch/akalinow/ProgrammingProjects/RootAnalysis/build/RootAnalysis_SVfitMLAnalysisMuTau_Pythia8.root\"\n",
    "\n",
    "for iChunk, dfChunk in enumerate(read_root(paths=fileName, key=\"Summary/tree\",chunksize=int(1000))):\n",
    "            print(\"\\tProcessing chunk: {}\".format(iChunk))\n",
    "            print(dfChunk)\n",
    "            break"
   ]
  },
  {
   "cell_type": "code",
   "execution_count": 3,
   "metadata": {},
   "outputs": [],
   "source": [
    "def getNumpyMatricesFromRawData(filePath):\n",
    "\n",
    "        legs, jets, global_params, properties = pd.read_pickle(filePath)\n",
    "        properties = OrderedDict(sorted(properties.items(), key=lambda t: t[0]))\n",
    "\n",
    "        print(\"no of legs: \", len(legs))\n",
    "        print(\"no of jets: \", len(jets))\n",
    "        print(\"global params: \", global_params.keys())\n",
    "        print(\"object properties:\",properties.keys())\n",
    "\n",
    "        genMass = np.array(global_params[\"genMass\"])\n",
    "        fastMTT = np.array(global_params[\"fastMTTMass\"])\n",
    "        visMass = np.array(global_params[\"visMass\"])\n",
    "        caMass = np.array(global_params[\"caMass\"])\n",
    "        \n",
    "        covMET00 = np.array(global_params[\"covMET00\"])\n",
    "        covMET01 = np.array(global_params[\"covMET01\"])\n",
    "        covMET10 = np.array(global_params[\"covMET10\"])\n",
    "        covMET11 = np.array(global_params[\"covMET11\"])\n",
    "    \n",
    "        leg1P4 = np.array(legs[0])\n",
    "        leg2P4 = np.array(legs[1])\n",
    "        leg1GenP4 = np.array(legs[2])\n",
    "        leg2GenP4 = np.array(legs[3])        \n",
    "        leg2Properties = np.array(properties[\"leg_2_decayMode\"])\n",
    "        leg1Properties = np.array(properties[\"leg_1_combreliso\"])\n",
    "        jet1P4 = np.array(jets[1])\n",
    "        jet2P4 = np.array(jets[2])        \n",
    "        met = np.array(jets[0][0:3])\n",
    "\n",
    "        genMass = np.reshape(genMass, (-1,1))\n",
    "        visMass = np.reshape(visMass, (-1,1))\n",
    "        caMass = np.reshape(caMass, (-1,1))\n",
    "        fastMTT = np.reshape(fastMTT, (-1,1))\n",
    "    \n",
    "        covMET00 = np.reshape(covMET00,(-1,1))\n",
    "        covMET01 = np.reshape(covMET01,(-1,1))\n",
    "        covMET10 = np.reshape(covMET10,(-1,1))\n",
    "        covMET11 = np.reshape(covMET11,(-1,1))\n",
    "        \n",
    "        leg2Properties = np.reshape(leg2Properties, (-1,1))\n",
    "        leg1Properties = np.reshape(leg1Properties, (-1,1))\n",
    "        leg1P4 = np.transpose(leg1P4)\n",
    "        leg2P4 = np.transpose(leg2P4)\n",
    "        leg1GenP4 = np.transpose(leg1GenP4)\n",
    "        leg2GenP4 = np.transpose(leg2GenP4)        \n",
    "        jet1P4 = np.transpose(jet1P4)\n",
    "        jet2P4 = np.transpose(jet2P4)\n",
    "        met = np.transpose(met)\n",
    "                       \n",
    "        columns = [\"genMass\", \"visMass\", \"caMass\", \"fastMTT\",\n",
    "                   \"covMET00\", \"covMET01\", \"covMET10\", \"covMET11\",\n",
    "                   \"leg1_e\", \"leg1_px\",\"leg1_py\",\"leg1_pz\", \n",
    "                   \"leg2_e\", \"leg2_px\",\"leg2_py\",\"leg2_pz\",\n",
    "                   \"leg_2_decayMode\",\n",
    "                   \"met\", \"met_x\", \"met_y\"]\n",
    "        \n",
    "        features = np.hstack((genMass, visMass, caMass, fastMTT, covMET00, covMET01, covMET10, covMET11, leg1P4, leg2P4, leg2Properties, met))\n",
    "        df = pd.DataFrame(data=features, columns=columns)     \n",
    "        return df"
   ]
  },
  {
   "cell_type": "markdown",
   "metadata": {},
   "source": [
    "## Load train and test datasets"
   ]
  },
  {
   "cell_type": "code",
   "execution_count": 4,
   "metadata": {},
   "outputs": [
    {
     "name": "stdout",
     "output_type": "stream",
     "text": [
      "Processing file: /home/user1/scratch/akalinow//ProgrammingProjects/MachineLearning/TauTauMass/data/15_09_2020//home/user1/scratch/akalinow//ProgrammingProjects/MachineLearning/TauTauMass/data/15_09_2020/RootAnalysis_SVfitMLAnalysisMuTau_Pythia8.root\n"
     ]
    }
   ],
   "source": [
    "dataDir = inputDataPrefix+\"/ProgrammingProjects/MachineLearning/TauTauMass/data/15_09_2020/\"\n",
    "fileNames = glob.glob(dataDir + 'RootAnalysis_SVfitMLAnalysisMuTau*.root')\n",
    "\n",
    "#fileNames = [\"/home/user1/scratch/akalinow/ProgrammingProjects/RootAnalysis/build/RootAnalysis_SVfitMLAnalysisMuTau_Pythia8.root\",\n",
    "#             \"/home/user1/scratch/akalinow/ProgrammingProjects/RootAnalysis/build/RootAnalysis_SVfitMLAnalysisMuTau_Pythia8_smearMET.root\",\n",
    "#             \"/home/user1/scratch/akalinow/ProgrammingProjects/RootAnalysis/build/RootAnalysis_SVfitMLAnalysisMuTau_DY_ggH125.root\"\n",
    "#            ]\n",
    " \n",
    "for fileName in fileNames:\n",
    "    print(\"Processing file:\",dataDir+fileName)\n",
    "    label = fileName.split(\"/\")[-1]\n",
    "    label = label.rstrip(\".pkl\")\n",
    "    label = label.rstrip(\".root\")\n",
    "    path = str(pathlib.Path(fileName).parent)+\"/\"\n",
    "    parquetFile = path+'df.parquet_{}.gzip'.format(label)\n",
    "    #df = getNumpyMatricesFromRawData(fileName)\n",
    "    df = read_root(paths=fileName, key=\"Summary/tree\")\n",
    "    df = df.sample(frac=1.0)\n",
    "    df.to_parquet(parquetFile, compression='gzip')"
   ]
  },
  {
   "cell_type": "markdown",
   "metadata": {},
   "source": [
    "## Importing data into TF"
   ]
  },
  {
   "cell_type": "code",
   "execution_count": 3,
   "metadata": {},
   "outputs": [
    {
     "name": "stdout",
     "output_type": "stream",
     "text": [
      "<TensorSliceDataset shapes: ((38,), ()), types: (tf.float64, tf.float32)>\n",
      "1803439    270.445007\n",
      "1893565    150.100311\n",
      "1987509     92.666321\n",
      "46326      297.996185\n",
      "861716      98.532669\n",
      "              ...    \n",
      "359049     184.680939\n",
      "775161     147.959152\n",
      "622367     251.188965\n",
      "1262186    211.023300\n",
      "509647     211.381958\n",
      "Name: genMass, Length: 2054631, dtype: float32\n",
      "(<tf.Tensor: shape=(38,), dtype=float64, numpy=\n",
      "array([ 1.00000000e+00,  0.00000000e+00,  1.58413696e+02,  2.93184998e+02,\n",
      "        2.90967590e+02,  9.99999978e-03,  0.00000000e+00,  0.00000000e+00,\n",
      "        9.99999978e-03,  5.23411705e+01,  7.50387624e+00,  4.01947952e+01,\n",
      "        3.26750249e+01,  1.20929497e+02, -2.00881389e+01, -7.66965717e+01,\n",
      "       -9.13016417e+01,  5.23411705e+01,  7.50387624e+00,  4.01947952e+01,\n",
      "        3.26750249e+01,  1.20929497e+02, -2.00881389e+01, -7.66965717e+01,\n",
      "       -9.13016417e+01,  4.42923396e+01,  6.33742140e+00,  4.38366107e+01,\n",
      "        0.00000000e+00,  0.00000000e+00,  0.00000000e+00,  0.00000000e+00,\n",
      "        0.00000000e+00,  0.00000000e+00,  0.00000000e+00,  0.00000000e+00,\n",
      "        0.00000000e+00,  1.20000000e+01])>, <tf.Tensor: shape=(), dtype=float32, numpy=270.445>)\n"
     ]
    },
    {
     "name": "stderr",
     "output_type": "stream",
     "text": [
      "2020-09-16 09:00:36.114390: W tensorflow/stream_executor/platform/default/dso_loader.cc:55] Could not load dynamic library 'libcuda.so.1'; dlerror: libcuda.so.1: cannot open shared object file: No such file or directory\n",
      "2020-09-16 09:00:36.114404: E tensorflow/stream_executor/cuda/cuda_driver.cc:351] failed call to cuInit: UNKNOWN ERROR (303)\n",
      "2020-09-16 09:00:36.114419: I tensorflow/stream_executor/cuda/cuda_diagnostics.cc:163] no NVIDIA GPU device is present: /dev/nvidia0 does not exist\n",
      "2020-09-16 09:00:36.114756: I tensorflow/core/platform/cpu_feature_guard.cc:142] Your CPU supports instructions that this TensorFlow binary was not compiled to use: AVX2 FMA\n",
      "2020-09-16 09:00:36.120818: I tensorflow/core/platform/profile_utils/cpu_utils.cc:94] CPU Frequency: 3600000000 Hz\n",
      "2020-09-16 09:00:36.121556: I tensorflow/compiler/xla/service/service.cc:168] XLA service 0x55fba8bb6520 initialized for platform Host (this does not guarantee that XLA will be used). Devices:\n",
      "2020-09-16 09:00:36.121567: I tensorflow/compiler/xla/service/service.cc:176]   StreamExecutor device (0): Host, Default Version\n"
     ]
    }
   ],
   "source": [
    "parquetFile = dataDir + 'df.parquet_RootAnalysis_SVfitMLAnalysisMuTau_Pythia8.gzip'\n",
    "df = pd.read_parquet(parquetFile)\n",
    "labels = df.pop(\"genMass\")    \n",
    "features = df.values\n",
    "dataset = tf.data.Dataset.from_tensor_slices((features, labels))\n",
    "print(dataset)\n",
    "print(labels)\n",
    "for item in dataset:\n",
    "    print(item)\n",
    "    break"
   ]
  },
  {
   "cell_type": "code",
   "execution_count": null,
   "metadata": {},
   "outputs": [],
   "source": []
  }
 ],
 "metadata": {
  "kernelspec": {
   "display_name": "Python 3",
   "language": "python",
   "name": "python3"
  },
  "language_info": {
   "codemirror_mode": {
    "name": "ipython",
    "version": 3
   },
   "file_extension": ".py",
   "mimetype": "text/x-python",
   "name": "python",
   "nbconvert_exporter": "python",
   "pygments_lexer": "ipython3",
   "version": "3.6.9"
  }
 },
 "nbformat": 4,
 "nbformat_minor": 4
}
